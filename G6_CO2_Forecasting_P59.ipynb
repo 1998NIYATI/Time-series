{
 "cells": [
  {
   "cell_type": "markdown",
   "metadata": {
    "id": "QCWyU4Ybk2kG"
   },
   "source": [
    "# Problem statement\n",
    "\n",
    "+To forecast level of CO2 emission for the upcoming years by an Industry"
   ]
  },
  {
   "cell_type": "markdown",
   "metadata": {
    "id": "Z1wNJoVZk2kO"
   },
   "source": [
    "# Importing the libraries"
   ]
  },
  {
   "cell_type": "code",
   "execution_count": 22,
   "metadata": {
    "id": "GaaGX7Rak2kQ"
   },
   "outputs": [],
   "source": [
    "import pandas as pd\n",
    "import numpy as np\n",
    "import seaborn as sns\n",
    "import warnings\n",
    "warnings.filterwarnings('ignore')\n",
    "import matplotlib.pyplot as plt"
   ]
  },
  {
   "cell_type": "markdown",
   "metadata": {
    "id": "XcQEKQ6Xk2kS"
   },
   "source": [
    "# Loading the dataset"
   ]
  },
  {
   "cell_type": "code",
   "execution_count": 23,
   "metadata": {
    "colab": {
     "base_uri": "https://localhost:8080/",
     "height": 323
    },
    "id": "lUZUedG8k2kU",
    "outputId": "f93dcb75-5718-4ee7-87a5-70c83f8715f5"
   },
   "outputs": [],
   "source": [
    "carbondioxide_level=pd.read_excel(r'C:\\Users\\lenovo\\Downloads\\CO2 dataset.xlsx',header=0, index_col=0, parse_dates=True)"
   ]
  },
  {
   "cell_type": "code",
   "execution_count": 24,
   "metadata": {
    "colab": {
     "base_uri": "https://localhost:8080/",
     "height": 180
    },
    "id": "1STvEV_Jk2kV",
    "outputId": "c9974aa1-22a4-422e-e46e-fb9db5e960bf"
   },
   "outputs": [
    {
     "data": {
      "text/html": [
       "<div>\n",
       "<style scoped>\n",
       "    .dataframe tbody tr th:only-of-type {\n",
       "        vertical-align: middle;\n",
       "    }\n",
       "\n",
       "    .dataframe tbody tr th {\n",
       "        vertical-align: top;\n",
       "    }\n",
       "\n",
       "    .dataframe thead th {\n",
       "        text-align: right;\n",
       "    }\n",
       "</style>\n",
       "<table border=\"1\" class=\"dataframe\">\n",
       "  <thead>\n",
       "    <tr style=\"text-align: right;\">\n",
       "      <th></th>\n",
       "      <th>CO2</th>\n",
       "    </tr>\n",
       "    <tr>\n",
       "      <th>Year</th>\n",
       "      <th></th>\n",
       "    </tr>\n",
       "  </thead>\n",
       "  <tbody>\n",
       "    <tr>\n",
       "      <th>1800-01-01</th>\n",
       "      <td>0.00568</td>\n",
       "    </tr>\n",
       "    <tr>\n",
       "      <th>1801-01-01</th>\n",
       "      <td>0.00561</td>\n",
       "    </tr>\n",
       "    <tr>\n",
       "      <th>1802-01-01</th>\n",
       "      <td>0.00555</td>\n",
       "    </tr>\n",
       "    <tr>\n",
       "      <th>1803-01-01</th>\n",
       "      <td>0.00548</td>\n",
       "    </tr>\n",
       "    <tr>\n",
       "      <th>1804-01-01</th>\n",
       "      <td>0.00542</td>\n",
       "    </tr>\n",
       "  </tbody>\n",
       "</table>\n",
       "</div>"
      ],
      "text/plain": [
       "                CO2\n",
       "Year               \n",
       "1800-01-01  0.00568\n",
       "1801-01-01  0.00561\n",
       "1802-01-01  0.00555\n",
       "1803-01-01  0.00548\n",
       "1804-01-01  0.00542"
      ]
     },
     "execution_count": 24,
     "metadata": {},
     "output_type": "execute_result"
    }
   ],
   "source": [
    "#First five records of the dataset\n",
    "carbondioxide_level.head()"
   ]
  },
  {
   "cell_type": "code",
   "execution_count": 25,
   "metadata": {
    "colab": {
     "base_uri": "https://localhost:8080/",
     "height": 204
    },
    "id": "P2dZryctk2kY",
    "outputId": "5205152c-2b0e-4515-e5f5-78e6d9a9c7de"
   },
   "outputs": [
    {
     "data": {
      "text/html": [
       "<div>\n",
       "<style scoped>\n",
       "    .dataframe tbody tr th:only-of-type {\n",
       "        vertical-align: middle;\n",
       "    }\n",
       "\n",
       "    .dataframe tbody tr th {\n",
       "        vertical-align: top;\n",
       "    }\n",
       "\n",
       "    .dataframe thead th {\n",
       "        text-align: right;\n",
       "    }\n",
       "</style>\n",
       "<table border=\"1\" class=\"dataframe\">\n",
       "  <thead>\n",
       "    <tr style=\"text-align: right;\">\n",
       "      <th></th>\n",
       "      <th>CO2</th>\n",
       "    </tr>\n",
       "    <tr>\n",
       "      <th>Year</th>\n",
       "      <th></th>\n",
       "    </tr>\n",
       "  </thead>\n",
       "  <tbody>\n",
       "    <tr>\n",
       "      <th>2010-01-01</th>\n",
       "      <td>15.6</td>\n",
       "    </tr>\n",
       "    <tr>\n",
       "      <th>2011-01-01</th>\n",
       "      <td>15.6</td>\n",
       "    </tr>\n",
       "    <tr>\n",
       "      <th>2012-01-01</th>\n",
       "      <td>14.8</td>\n",
       "    </tr>\n",
       "    <tr>\n",
       "      <th>2013-01-01</th>\n",
       "      <td>14.7</td>\n",
       "    </tr>\n",
       "    <tr>\n",
       "      <th>2014-01-01</th>\n",
       "      <td>15.1</td>\n",
       "    </tr>\n",
       "  </tbody>\n",
       "</table>\n",
       "</div>"
      ],
      "text/plain": [
       "             CO2\n",
       "Year            \n",
       "2010-01-01  15.6\n",
       "2011-01-01  15.6\n",
       "2012-01-01  14.8\n",
       "2013-01-01  14.7\n",
       "2014-01-01  15.1"
      ]
     },
     "execution_count": 25,
     "metadata": {},
     "output_type": "execute_result"
    }
   ],
   "source": [
    "#Last five records of the dataset\n",
    "carbondioxide_level.tail()"
   ]
  },
  {
   "cell_type": "markdown",
   "metadata": {
    "id": "3af3E2o9k2kZ"
   },
   "source": [
    "# Data Insights"
   ]
  },
  {
   "cell_type": "code",
   "execution_count": null,
   "metadata": {
    "id": "VMrLYZUs249w"
   },
   "outputs": [],
   "source": []
  },
  {
   "cell_type": "code",
   "execution_count": 26,
   "metadata": {
    "colab": {
     "base_uri": "https://localhost:8080/"
    },
    "id": "ijbbFGyyk2kb",
    "outputId": "e989fe7c-ffa5-4b15-aa7d-7fb8a2ca3698"
   },
   "outputs": [
    {
     "data": {
      "text/plain": [
       "(215, 1)"
      ]
     },
     "execution_count": 26,
     "metadata": {},
     "output_type": "execute_result"
    }
   ],
   "source": [
    "#number of rows and columns\n",
    "carbondioxide_level.shape"
   ]
  },
  {
   "cell_type": "markdown",
   "metadata": {
    "id": "WO3EvmEuk2kd"
   },
   "source": [
    "From Above Results There are 215 Rows And 2 Columns"
   ]
  },
  {
   "cell_type": "code",
   "execution_count": 27,
   "metadata": {
    "colab": {
     "base_uri": "https://localhost:8080/"
    },
    "id": "WdRLAlMIk2ke",
    "outputId": "0376e035-c738-41e7-d962-3884c4ce3af3"
   },
   "outputs": [
    {
     "name": "stdout",
     "output_type": "stream",
     "text": [
      "<class 'pandas.core.frame.DataFrame'>\n",
      "DatetimeIndex: 215 entries, 1800-01-01 to 2014-01-01\n",
      "Data columns (total 1 columns):\n",
      " #   Column  Non-Null Count  Dtype  \n",
      "---  ------  --------------  -----  \n",
      " 0   CO2     215 non-null    float64\n",
      "dtypes: float64(1)\n",
      "memory usage: 3.4 KB\n"
     ]
    }
   ],
   "source": [
    "#Type Of Dataset\n",
    "carbondioxide_level.info()"
   ]
  },
  {
   "cell_type": "markdown",
   "metadata": {
    "id": "D82E9EkVk2kf"
   },
   "source": [
    "From Above There is No-Null Count, And the Year data type is int64 And co2 data type is float64"
   ]
  },
  {
   "cell_type": "code",
   "execution_count": 28,
   "metadata": {
    "colab": {
     "base_uri": "https://localhost:8080/"
    },
    "id": "U3hfC_oJk2kf",
    "outputId": "013154fc-e224-4a63-efcb-1e0d320e45b1"
   },
   "outputs": [
    {
     "data": {
      "text/plain": [
       "DatetimeIndex(['1800-01-01', '1801-01-01', '1802-01-01', '1803-01-01',\n",
       "               '1804-01-01', '1805-01-01', '1806-01-01', '1807-01-01',\n",
       "               '1808-01-01', '1809-01-01',\n",
       "               ...\n",
       "               '2005-01-01', '2006-01-01', '2007-01-01', '2008-01-01',\n",
       "               '2009-01-01', '2010-01-01', '2011-01-01', '2012-01-01',\n",
       "               '2013-01-01', '2014-01-01'],\n",
       "              dtype='datetime64[ns]', name='Year', length=215, freq=None)"
      ]
     },
     "execution_count": 28,
     "metadata": {},
     "output_type": "execute_result"
    }
   ],
   "source": [
    "carbondioxide_level.index"
   ]
  },
  {
   "cell_type": "code",
   "execution_count": 29,
   "metadata": {
    "colab": {
     "base_uri": "https://localhost:8080/",
     "height": 286
    },
    "id": "kUHo1Kgek2kg",
    "outputId": "d1cdb949-58d0-4aad-a477-1f03ed4673f2"
   },
   "outputs": [
    {
     "data": {
      "text/plain": [
       "<AxesSubplot:ylabel='Year'>"
      ]
     },
     "execution_count": 29,
     "metadata": {},
     "output_type": "execute_result"
    },
    {
     "data": {
      "image/png": "[encoded data removed]",
      "text/plain": [
       "<Figure size 432x288 with 2 Axes>"
      ]
     },
     "metadata": {
      "needs_background": "light"
     },
     "output_type": "display_data"
    }
   ],
   "source": [
    "sns.heatmap(carbondioxide_level.isnull())"
   ]
  },
  {
   "cell_type": "markdown",
   "metadata": {
    "id": "HDf-Bsntk2kh"
   },
   "source": [
    "From Aove There is NO-Null Values in this dataset\n",
    "CO2 emissions for the year 1800 to 2014"
   ]
  },
  {
   "cell_type": "code",
   "execution_count": 30,
   "metadata": {
    "colab": {
     "base_uri": "https://localhost:8080/",
     "height": 49
    },
    "id": "S3GKqr5vk2ki",
    "outputId": "87b31dcd-a9d7-4596-c4e7-3f42452a4fea"
   },
   "outputs": [
    {
     "data": {
      "text/html": [
       "<div>\n",
       "<style scoped>\n",
       "    .dataframe tbody tr th:only-of-type {\n",
       "        vertical-align: middle;\n",
       "    }\n",
       "\n",
       "    .dataframe tbody tr th {\n",
       "        vertical-align: top;\n",
       "    }\n",
       "\n",
       "    .dataframe thead th {\n",
       "        text-align: right;\n",
       "    }\n",
       "</style>\n",
       "<table border=\"1\" class=\"dataframe\">\n",
       "  <thead>\n",
       "    <tr style=\"text-align: right;\">\n",
       "      <th></th>\n",
       "      <th>CO2</th>\n",
       "    </tr>\n",
       "    <tr>\n",
       "      <th>Year</th>\n",
       "      <th></th>\n",
       "    </tr>\n",
       "  </thead>\n",
       "  <tbody>\n",
       "    <tr>\n",
       "      <th>1875-01-01</th>\n",
       "      <td>0.461</td>\n",
       "    </tr>\n",
       "    <tr>\n",
       "      <th>1886-01-01</th>\n",
       "      <td>1.870</td>\n",
       "    </tr>\n",
       "    <tr>\n",
       "      <th>1894-01-01</th>\n",
       "      <td>2.780</td>\n",
       "    </tr>\n",
       "    <tr>\n",
       "      <th>1896-01-01</th>\n",
       "      <td>2.810</td>\n",
       "    </tr>\n",
       "    <tr>\n",
       "      <th>1898-01-01</th>\n",
       "      <td>2.940</td>\n",
       "    </tr>\n",
       "    <tr>\n",
       "      <th>1923-01-01</th>\n",
       "      <td>10.100</td>\n",
       "    </tr>\n",
       "    <tr>\n",
       "      <th>1928-01-01</th>\n",
       "      <td>9.320</td>\n",
       "    </tr>\n",
       "    <tr>\n",
       "      <th>1937-01-01</th>\n",
       "      <td>8.270</td>\n",
       "    </tr>\n",
       "    <tr>\n",
       "      <th>1940-01-01</th>\n",
       "      <td>9.330</td>\n",
       "    </tr>\n",
       "    <tr>\n",
       "      <th>1946-01-01</th>\n",
       "      <td>11.000</td>\n",
       "    </tr>\n",
       "    <tr>\n",
       "      <th>1950-01-01</th>\n",
       "      <td>11.200</td>\n",
       "    </tr>\n",
       "    <tr>\n",
       "      <th>1951-01-01</th>\n",
       "      <td>11.500</td>\n",
       "    </tr>\n",
       "    <tr>\n",
       "      <th>1952-01-01</th>\n",
       "      <td>11.000</td>\n",
       "    </tr>\n",
       "    <tr>\n",
       "      <th>1953-01-01</th>\n",
       "      <td>10.800</td>\n",
       "    </tr>\n",
       "    <tr>\n",
       "      <th>1954-01-01</th>\n",
       "      <td>10.700</td>\n",
       "    </tr>\n",
       "    <tr>\n",
       "      <th>1955-01-01</th>\n",
       "      <td>10.800</td>\n",
       "    </tr>\n",
       "    <tr>\n",
       "      <th>1957-01-01</th>\n",
       "      <td>11.000</td>\n",
       "    </tr>\n",
       "    <tr>\n",
       "      <th>1958-01-01</th>\n",
       "      <td>10.700</td>\n",
       "    </tr>\n",
       "    <tr>\n",
       "      <th>1959-01-01</th>\n",
       "      <td>10.500</td>\n",
       "    </tr>\n",
       "    <tr>\n",
       "      <th>1960-01-01</th>\n",
       "      <td>10.800</td>\n",
       "    </tr>\n",
       "    <tr>\n",
       "      <th>1963-01-01</th>\n",
       "      <td>11.100</td>\n",
       "    </tr>\n",
       "    <tr>\n",
       "      <th>1969-01-01</th>\n",
       "      <td>14.600</td>\n",
       "    </tr>\n",
       "    <tr>\n",
       "      <th>1975-01-01</th>\n",
       "      <td>17.200</td>\n",
       "    </tr>\n",
       "    <tr>\n",
       "      <th>1976-01-01</th>\n",
       "      <td>17.000</td>\n",
       "    </tr>\n",
       "    <tr>\n",
       "      <th>1977-01-01</th>\n",
       "      <td>17.200</td>\n",
       "    </tr>\n",
       "    <tr>\n",
       "      <th>1981-01-01</th>\n",
       "      <td>17.300</td>\n",
       "    </tr>\n",
       "    <tr>\n",
       "      <th>1983-01-01</th>\n",
       "      <td>16.200</td>\n",
       "    </tr>\n",
       "    <tr>\n",
       "      <th>1984-01-01</th>\n",
       "      <td>16.600</td>\n",
       "    </tr>\n",
       "    <tr>\n",
       "      <th>1987-01-01</th>\n",
       "      <td>16.200</td>\n",
       "    </tr>\n",
       "    <tr>\n",
       "      <th>1989-01-01</th>\n",
       "      <td>17.000</td>\n",
       "    </tr>\n",
       "    <tr>\n",
       "      <th>1992-01-01</th>\n",
       "      <td>15.500</td>\n",
       "    </tr>\n",
       "    <tr>\n",
       "      <th>1993-01-01</th>\n",
       "      <td>15.500</td>\n",
       "    </tr>\n",
       "    <tr>\n",
       "      <th>1994-01-01</th>\n",
       "      <td>15.700</td>\n",
       "    </tr>\n",
       "    <tr>\n",
       "      <th>1995-01-01</th>\n",
       "      <td>15.900</td>\n",
       "    </tr>\n",
       "    <tr>\n",
       "      <th>1996-01-01</th>\n",
       "      <td>16.200</td>\n",
       "    </tr>\n",
       "    <tr>\n",
       "      <th>1997-01-01</th>\n",
       "      <td>16.600</td>\n",
       "    </tr>\n",
       "    <tr>\n",
       "      <th>1999-01-01</th>\n",
       "      <td>16.900</td>\n",
       "    </tr>\n",
       "    <tr>\n",
       "      <th>2001-01-01</th>\n",
       "      <td>17.000</td>\n",
       "    </tr>\n",
       "    <tr>\n",
       "      <th>2002-01-01</th>\n",
       "      <td>16.600</td>\n",
       "    </tr>\n",
       "    <tr>\n",
       "      <th>2004-01-01</th>\n",
       "      <td>17.300</td>\n",
       "    </tr>\n",
       "    <tr>\n",
       "      <th>2005-01-01</th>\n",
       "      <td>17.300</td>\n",
       "    </tr>\n",
       "    <tr>\n",
       "      <th>2007-01-01</th>\n",
       "      <td>16.800</td>\n",
       "    </tr>\n",
       "    <tr>\n",
       "      <th>2008-01-01</th>\n",
       "      <td>16.800</td>\n",
       "    </tr>\n",
       "    <tr>\n",
       "      <th>2009-01-01</th>\n",
       "      <td>15.900</td>\n",
       "    </tr>\n",
       "    <tr>\n",
       "      <th>2011-01-01</th>\n",
       "      <td>15.600</td>\n",
       "    </tr>\n",
       "  </tbody>\n",
       "</table>\n",
       "</div>"
      ],
      "text/plain": [
       "               CO2\n",
       "Year              \n",
       "1875-01-01   0.461\n",
       "1886-01-01   1.870\n",
       "1894-01-01   2.780\n",
       "1896-01-01   2.810\n",
       "1898-01-01   2.940\n",
       "1923-01-01  10.100\n",
       "1928-01-01   9.320\n",
       "1937-01-01   8.270\n",
       "1940-01-01   9.330\n",
       "1946-01-01  11.000\n",
       "1950-01-01  11.200\n",
       "1951-01-01  11.500\n",
       "1952-01-01  11.000\n",
       "1953-01-01  10.800\n",
       "1954-01-01  10.700\n",
       "1955-01-01  10.800\n",
       "1957-01-01  11.000\n",
       "1958-01-01  10.700\n",
       "1959-01-01  10.500\n",
       "1960-01-01  10.800\n",
       "1963-01-01  11.100\n",
       "1969-01-01  14.600\n",
       "1975-01-01  17.200\n",
       "1976-01-01  17.000\n",
       "1977-01-01  17.200\n",
       "1981-01-01  17.300\n",
       "1983-01-01  16.200\n",
       "1984-01-01  16.600\n",
       "1987-01-01  16.200\n",
       "1989-01-01  17.000\n",
       "1992-01-01  15.500\n",
       "1993-01-01  15.500\n",
       "1994-01-01  15.700\n",
       "1995-01-01  15.900\n",
       "1996-01-01  16.200\n",
       "1997-01-01  16.600\n",
       "1999-01-01  16.900\n",
       "2001-01-01  17.000\n",
       "2002-01-01  16.600\n",
       "2004-01-01  17.300\n",
       "2005-01-01  17.300\n",
       "2007-01-01  16.800\n",
       "2008-01-01  16.800\n",
       "2009-01-01  15.900\n",
       "2011-01-01  15.600"
      ]
     },
     "execution_count": 30,
     "metadata": {},
     "output_type": "execute_result"
    }
   ],
   "source": [
    "#Check the duplicate values\n",
    "carbondioxide_level[carbondioxide_level.duplicated()]"
   ]
  },
  {
   "cell_type": "markdown",
   "metadata": {
    "id": "JC1o8MDkk2kj"
   },
   "source": [
    "from Above There is No Duplicate values or columns"
   ]
  },
  {
   "cell_type": "code",
   "execution_count": 31,
   "metadata": {
    "colab": {
     "base_uri": "https://localhost:8080/",
     "height": 297
    },
    "id": "_LK9ZUDpk2kj",
    "outputId": "c2a0a779-b298-41c2-934f-afcfd58325cd"
   },
   "outputs": [
    {
     "data": {
      "text/html": [
       "<div>\n",
       "<style scoped>\n",
       "    .dataframe tbody tr th:only-of-type {\n",
       "        vertical-align: middle;\n",
       "    }\n",
       "\n",
       "    .dataframe tbody tr th {\n",
       "        vertical-align: top;\n",
       "    }\n",
       "\n",
       "    .dataframe thead th {\n",
       "        text-align: right;\n",
       "    }\n",
       "</style>\n",
       "<table border=\"1\" class=\"dataframe\">\n",
       "  <thead>\n",
       "    <tr style=\"text-align: right;\">\n",
       "      <th></th>\n",
       "      <th>CO2</th>\n",
       "    </tr>\n",
       "  </thead>\n",
       "  <tbody>\n",
       "    <tr>\n",
       "      <th>count</th>\n",
       "      <td>215.000000</td>\n",
       "    </tr>\n",
       "    <tr>\n",
       "      <th>mean</th>\n",
       "      <td>6.741970</td>\n",
       "    </tr>\n",
       "    <tr>\n",
       "      <th>std</th>\n",
       "      <td>6.522437</td>\n",
       "    </tr>\n",
       "    <tr>\n",
       "      <th>min</th>\n",
       "      <td>0.001750</td>\n",
       "    </tr>\n",
       "    <tr>\n",
       "      <th>25%</th>\n",
       "      <td>0.041050</td>\n",
       "    </tr>\n",
       "    <tr>\n",
       "      <th>50%</th>\n",
       "      <td>6.390000</td>\n",
       "    </tr>\n",
       "    <tr>\n",
       "      <th>75%</th>\n",
       "      <td>11.500000</td>\n",
       "    </tr>\n",
       "    <tr>\n",
       "      <th>max</th>\n",
       "      <td>18.200000</td>\n",
       "    </tr>\n",
       "  </tbody>\n",
       "</table>\n",
       "</div>"
      ],
      "text/plain": [
       "              CO2\n",
       "count  215.000000\n",
       "mean     6.741970\n",
       "std      6.522437\n",
       "min      0.001750\n",
       "25%      0.041050\n",
       "50%      6.390000\n",
       "75%     11.500000\n",
       "max     18.200000"
      ]
     },
     "execution_count": 31,
     "metadata": {},
     "output_type": "execute_result"
    }
   ],
   "source": [
    "carbondioxide_level.describe()"
   ]
  },
  {
   "cell_type": "markdown",
   "metadata": {
    "id": "jiXNx2Eyk2kk"
   },
   "source": [
    "# VISUALIZATION AND DECOMPOSITION OF DATA"
   ]
  },
  {
   "cell_type": "code",
   "execution_count": 32,
   "metadata": {
    "colab": {
     "base_uri": "https://localhost:8080/",
     "height": 282
    },
    "id": "B82d1LDAk2kl",
    "outputId": "f295c205-96a4-452d-804a-ac61bc61e6b4"
   },
   "outputs": [
    {
     "data": {
      "text/plain": [
       "<AxesSubplot:xlabel='Year'>"
      ]
     },
     "execution_count": 32,
     "metadata": {},
     "output_type": "execute_result"
    },
    {
     "data": {
      "image/png": "[encoded data removed]",
      "text/plain": [
       "<Figure size 432x288 with 1 Axes>"
      ]
     },
     "metadata": {
      "needs_background": "light"
     },
     "output_type": "display_data"
    }
   ],
   "source": [
    "#check the type of dataset\n",
    "carbondioxide_level.CO2.plot()"
   ]
  },
  {
   "cell_type": "code",
   "execution_count": 33,
   "metadata": {
    "colab": {
     "base_uri": "https://localhost:8080/",
     "height": 265
    },
    "id": "0TQXJ37kk2kn",
    "outputId": "46148263-7d91-402c-abc1-d9301e5fd566"
   },
   "outputs": [
    {
     "data": {
      "image/png": "[encoded data removed]",
      "text/plain": [
       "<Figure size 432x288 with 1 Axes>"
      ]
     },
     "metadata": {
      "needs_background": "light"
     },
     "output_type": "display_data"
    }
   ],
   "source": [
    "# line plot for co2\n",
    "from pandas import read_csv\n",
    "from matplotlib import pyplot\n",
    "carbondioxide_level.plot()\n",
    "pyplot.show()"
   ]
  },
  {
   "cell_type": "code",
   "execution_count": 34,
   "metadata": {
    "colab": {
     "base_uri": "https://localhost:8080/",
     "height": 332
    },
    "id": "H3saxx9mk2ko",
    "outputId": "08a7653b-1535-442f-eea2-bcfcfba40de1"
   },
   "outputs": [
    {
     "data": {
      "text/plain": [
       "array([[<AxesSubplot:title={'center':'CO2'}>]], dtype=object)"
      ]
     },
     "execution_count": 34,
     "metadata": {},
     "output_type": "execute_result"
    },
    {
     "data": {
      "image/png": "[encoded data removed]",
      "text/plain": [
       "<Figure size 432x288 with 1 Axes>"
      ]
     },
     "metadata": {
      "needs_background": "light"
     },
     "output_type": "display_data"
    }
   ],
   "source": [
    "#Histogram For Year And co2\n",
    "carbondioxide_level.hist()"
   ]
  },
  {
   "cell_type": "code",
   "execution_count": 35,
   "metadata": {
    "colab": {
     "base_uri": "https://localhost:8080/",
     "height": 296
    },
    "id": "zcz1HGskk2kp",
    "outputId": "29dca8c8-4173-41a3-adb8-e734a2920e9c"
   },
   "outputs": [
    {
     "data": {
      "text/plain": [
       "<AxesSubplot:xlabel='CO2'>"
      ]
     },
     "execution_count": 35,
     "metadata": {},
     "output_type": "execute_result"
    },
    {
     "data": {
      "image/png": "[encoded data removed]",
      "text/plain": [
       "<Figure size 432x288 with 1 Axes>"
      ]
     },
     "metadata": {
      "needs_background": "light"
     },
     "output_type": "display_data"
    }
   ],
   "source": [
    "#Check the Outlier value for the Dataset\n",
    "sns.boxplot(carbondioxide_level['CO2'])"
   ]
  },
  {
   "cell_type": "markdown",
   "metadata": {
    "id": "NKlKi_RXk2kq"
   },
   "source": [
    "From Above Boxplot there is no outlier detected in this dataset\n",
    "the range of CO2 emission lies between 0 to around 18"
   ]
  },
  {
   "cell_type": "markdown",
   "metadata": {
    "id": "m3x__RH-k2kr"
   },
   "source": [
    "# Data Driven models"
   ]
  },
  {
   "cell_type": "markdown",
   "metadata": {
    "id": "AD_suq82k2kr"
   },
   "source": [
    "# Moving average"
   ]
  },
  {
   "cell_type": "code",
   "execution_count": 36,
   "metadata": {
    "colab": {
     "base_uri": "https://localhost:8080/",
     "height": 282
    },
    "id": "MoIGA8nok2kr",
    "outputId": "e30310ff-5dac-4918-b078-c36ff89e5f1e"
   },
   "outputs": [
    {
     "data": {
      "text/plain": [
       "<matplotlib.legend.Legend at 0x1dae60acfd0>"
      ]
     },
     "execution_count": 36,
     "metadata": {},
     "output_type": "execute_result"
    },
    {
     "data": {
      "image/png": "[encoded data removed]",
      "text/plain": [
       "<Figure size 1008x288 with 1 Axes>"
      ]
     },
     "metadata": {
      "needs_background": "light"
     },
     "output_type": "display_data"
    }
   ],
   "source": [
    "plt.figure(figsize=(14,4))\n",
    "carbondioxide_level.CO2.plot(label=\"org\")\n",
    "for i in range(2,24,6):\n",
    "    carbondioxide_level[\"CO2\"].rolling(i).mean().plot(label=str(i))\n",
    "plt.legend(loc='best')"
   ]
  },
  {
   "cell_type": "markdown",
   "metadata": {
    "id": "FfYxMo1Pk2ks"
   },
   "source": [
    "The emissions mean and the variation in standard deviation vary with time. This shows that the series has a trend. So, it is not a stationary."
   ]
  },
  {
   "cell_type": "markdown",
   "metadata": {
    "id": "9IYtnlfck2ks"
   },
   "source": [
    "# Time Series Decomposition plots"
   ]
  },
  {
   "cell_type": "code",
   "execution_count": 37,
   "metadata": {
    "colab": {
     "base_uri": "https://localhost:8080/",
     "height": 297
    },
    "id": "WcA6jtj9k2ks",
    "outputId": "19a17f99-db72-440d-e392-5759fa8274a6"
   },
   "outputs": [
    {
     "data": {
      "image/png": "[encoded data removed]",
      "text/plain": [
       "<Figure size 432x288 with 4 Axes>"
      ]
     },
     "metadata": {
      "needs_background": "light"
     },
     "output_type": "display_data"
    }
   ],
   "source": [
    "from statsmodels.tsa.seasonal import seasonal_decompose\n",
    "\n",
    "decompose_ts_add = seasonal_decompose(carbondioxide_level.CO2,freq=14,model=\"additive\")\n",
    "decompose_ts_add.plot()\n",
    "plt.show()"
   ]
  },
  {
   "cell_type": "code",
   "execution_count": 38,
   "metadata": {
    "colab": {
     "base_uri": "https://localhost:8080/",
     "height": 297
    },
    "id": "r_GWztIAk2kt",
    "outputId": "4f8d55fc-ed56-4bb3-fc41-6f4211687d64"
   },
   "outputs": [
    {
     "data": {
      "image/png": "[encoded data removed]",
      "text/plain": [
       "<Figure size 432x288 with 4 Axes>"
      ]
     },
     "metadata": {
      "needs_background": "light"
     },
     "output_type": "display_data"
    }
   ],
   "source": [
    "decompose_ts_add = seasonal_decompose(carbondioxide_level.CO2,freq=12,model=\"multiplicative\")\n",
    "decompose_ts_add.plot()\n",
    "plt.show()"
   ]
  },
  {
   "cell_type": "raw",
   "metadata": {
    "id": "f9Q866Izk2ku"
   },
   "source": [
    "From the above decomposition plots, we can see there is a mulitplicative seasonality in our data\n",
    "The above plots clearly shows that our data is not stationary.\n",
    "The data is seasonal and shows an upward trend."
   ]
  },
  {
   "cell_type": "markdown",
   "metadata": {
    "id": "B1IrUMe4k2ku"
   },
   "source": [
    "# GRAPHICALLY TESTED STATIONARY"
   ]
  },
  {
   "cell_type": "code",
   "execution_count": 39,
   "metadata": {
    "id": "wYyRPEGdk2ku"
   },
   "outputs": [],
   "source": [
    "import statsmodels\n",
    "import statsmodels.api as sm\n",
    "from statsmodels.tsa.stattools import coint, adfuller"
   ]
  },
  {
   "cell_type": "code",
   "execution_count": 40,
   "metadata": {
    "id": "edH6eJRKk2kv"
   },
   "outputs": [],
   "source": [
    "def TestStationaryPlot(ts):\n",
    "    rol_mean = ts.rolling(window = 12, center = False).mean()\n",
    "    rol_std = ts.rolling(window = 12, center = False).std()\n",
    "    \n",
    "    plt.plot(ts, color = 'blue',label = 'Original Data')\n",
    "    plt.plot(rol_mean, color = 'red', label = 'Rolling Mean')\n",
    "    plt.plot(rol_std, color ='black', label = 'Rolling Std')\n",
    "    plt.xticks(fontsize = 10)\n",
    "    plt.yticks(fontsize = 10)\n",
    "    \n",
    "    plt.xlabel('Time in Years', fontsize = 10)\n",
    "    plt.ylabel('Total Emissions', fontsize = 10)\n",
    "    plt.legend(loc='best', fontsize = 10)\n",
    "    plt.title('Rolling Mean & Standard Deviation', fontsize = 10)\n",
    "    plt.show(block= True)"
   ]
  },
  {
   "cell_type": "code",
   "execution_count": 41,
   "metadata": {
    "colab": {
     "base_uri": "https://localhost:8080/",
     "height": 293
    },
    "id": "wAjGDrH6k2kw",
    "outputId": "e76f503b-61c3-4726-8816-6e73bb97220b"
   },
   "outputs": [
    {
     "data": {
      "image/png": "[encoded data removed]",
      "text/plain": [
       "<Figure size 432x288 with 1 Axes>"
      ]
     },
     "metadata": {
      "needs_background": "light"
     },
     "output_type": "display_data"
    }
   ],
   "source": [
    "TestStationaryPlot(carbondioxide_level)"
   ]
  },
  {
   "cell_type": "markdown",
   "metadata": {
    "id": "O5Mo2ee9k2kw"
   },
   "source": [
    "# TEST STATIONARY USING DICKEY-FULLER"
   ]
  },
  {
   "cell_type": "code",
   "execution_count": 42,
   "metadata": {
    "id": "s5XIg_5_k2kx"
   },
   "outputs": [],
   "source": [
    "def TestStationaryAdfuller(ts, cutoff = 0.01):\n",
    "    ts_test = adfuller(ts['CO2'].values, autolag = 'AIC')\n",
    "    ts_test_output = pd.Series(ts_test[0:4], index=['Test Statistic','p-value','#Lags Used','Number of Observations Used'])\n",
    "    \n",
    "    for key,value in ts_test[4].items():\n",
    "        ts_test_output['Critical Value (%s)'%key] = value\n",
    "    print(ts_test_output)\n",
    "    \n",
    "    if ts_test[1] <= cutoff:\n",
    "        print(\"Strong evidence against the null hypothesis, reject the null hypothesis. Data has no unit root, hence it is stationary\")\n",
    "    else:\n",
    "        print(\"Weak evidence against null hypothesis, time series has a unit root, indicating it is non-stationary \")"
   ]
  },
  {
   "cell_type": "code",
   "execution_count": 43,
   "metadata": {
    "colab": {
     "base_uri": "https://localhost:8080/"
    },
    "id": "N528ux2Zk2kx",
    "outputId": "ff68f441-325c-47ce-a6cf-df0d8142e198"
   },
   "outputs": [
    {
     "name": "stdout",
     "output_type": "stream",
     "text": [
      "Test Statistic                  -0.378463\n",
      "p-value                          0.913633\n",
      "#Lags Used                       0.000000\n",
      "Number of Observations Used    214.000000\n",
      "Critical Value (1%)             -3.461282\n",
      "Critical Value (5%)             -2.875143\n",
      "Critical Value (10%)            -2.574020\n",
      "dtype: float64\n",
      "Weak evidence against null hypothesis, time series has a unit root, indicating it is non-stationary \n"
     ]
    }
   ],
   "source": [
    "TestStationaryAdfuller(carbondioxide_level)"
   ]
  },
  {
   "cell_type": "markdown",
   "metadata": {
    "id": "kLbpNXX5k2ky"
   },
   "source": [
    "# TO TANSFORM THE DATASET INTO STATIONARY"
   ]
  },
  {
   "cell_type": "markdown",
   "metadata": {
    "id": "srqXPaACk2kz"
   },
   "source": [
    "# The most common method of dealing with both trend and seasonality is differencing.\n",
    "#Eliminating trend and seasonality: Differencing"
   ]
  },
  {
   "cell_type": "code",
   "execution_count": 44,
   "metadata": {
    "colab": {
     "base_uri": "https://localhost:8080/",
     "height": 293
    },
    "id": "XKbn68szk2kz",
    "outputId": "0518cf35-39ba-4c0e-eee4-00e761f0c16a"
   },
   "outputs": [
    {
     "data": {
      "image/png": "[encoded data removed]",
      "text/plain": [
       "<Figure size 432x288 with 1 Axes>"
      ]
     },
     "metadata": {
      "needs_background": "light"
     },
     "output_type": "display_data"
    }
   ],
   "source": [
    "CO2_first_difference = carbondioxide_level - carbondioxide_level.shift(1)  \n",
    "TestStationaryPlot(CO2_first_difference.dropna(inplace=False))"
   ]
  },
  {
   "cell_type": "code",
   "execution_count": 45,
   "metadata": {
    "colab": {
     "base_uri": "https://localhost:8080/"
    },
    "id": "zLJOLlhsk2k0",
    "outputId": "a351f0fe-826c-4bac-eee1-0b5beae1f029"
   },
   "outputs": [
    {
     "name": "stdout",
     "output_type": "stream",
     "text": [
      "Test Statistic                  -3.780005\n",
      "p-value                          0.003119\n",
      "#Lags Used                      15.000000\n",
      "Number of Observations Used    198.000000\n",
      "Critical Value (1%)             -3.463815\n",
      "Critical Value (5%)             -2.876251\n",
      "Critical Value (10%)            -2.574611\n",
      "dtype: float64\n",
      "Strong evidence against the null hypothesis, reject the null hypothesis. Data has no unit root, hence it is stationary\n"
     ]
    }
   ],
   "source": [
    "TestStationaryAdfuller(CO2_first_difference.dropna(inplace=False))"
   ]
  },
  {
   "cell_type": "markdown",
   "metadata": {
    "id": "wHMQ-Lhek2k1"
   },
   "source": [
    "The first difference improves the stationarity of the series significantly.We also used the seasonal difference to remove the seasonality of the data and see how that impacts stationarity of the data.¶"
   ]
  },
  {
   "cell_type": "code",
   "execution_count": 46,
   "metadata": {
    "colab": {
     "base_uri": "https://localhost:8080/",
     "height": 293
    },
    "id": "M0AoNrIZk2k1",
    "outputId": "f69ad747-45fc-4c69-ad71-f5d62b1e5426"
   },
   "outputs": [
    {
     "data": {
      "image/png": "[encoded data removed]",
      "text/plain": [
       "<Figure size 432x288 with 1 Axes>"
      ]
     },
     "metadata": {
      "needs_background": "light"
     },
     "output_type": "display_data"
    }
   ],
   "source": [
    "CO2_seasonal_difference = carbondioxide_level - carbondioxide_level.shift(12)  \n",
    "TestStationaryPlot(CO2_seasonal_difference.dropna(inplace=False))"
   ]
  },
  {
   "cell_type": "code",
   "execution_count": 47,
   "metadata": {
    "colab": {
     "base_uri": "https://localhost:8080/"
    },
    "id": "zockK_2ok2k2",
    "outputId": "e72880ea-e4dc-4856-ef47-3db03e2e010f"
   },
   "outputs": [
    {
     "name": "stdout",
     "output_type": "stream",
     "text": [
      "Test Statistic                  -1.847905\n",
      "p-value                          0.356951\n",
      "#Lags Used                      15.000000\n",
      "Number of Observations Used    187.000000\n",
      "Critical Value (1%)             -3.465812\n",
      "Critical Value (5%)             -2.877123\n",
      "Critical Value (10%)            -2.575077\n",
      "dtype: float64\n",
      "Weak evidence against null hypothesis, time series has a unit root, indicating it is non-stationary \n"
     ]
    }
   ],
   "source": [
    "TestStationaryAdfuller(CO2_seasonal_difference.dropna(inplace=False))"
   ]
  },
  {
   "cell_type": "code",
   "execution_count": 48,
   "metadata": {
    "colab": {
     "base_uri": "https://localhost:8080/",
     "height": 293
    },
    "id": "lemNKMdOk2k3",
    "outputId": "885d1a52-8a6e-4a85-8a0f-b98c981deb01"
   },
   "outputs": [
    {
     "data": {
      "image/png": "[encoded data removed]",
      "text/plain": [
       "<Figure size 432x288 with 1 Axes>"
      ]
     },
     "metadata": {
      "needs_background": "light"
     },
     "output_type": "display_data"
    }
   ],
   "source": [
    "CO2_seasonal_first_difference = CO2_first_difference - CO2_first_difference.shift(12)  \n",
    "TestStationaryPlot(CO2_seasonal_first_difference.dropna(inplace=False))"
   ]
  },
  {
   "cell_type": "code",
   "execution_count": 49,
   "metadata": {
    "colab": {
     "base_uri": "https://localhost:8080/"
    },
    "id": "VcTZyoqZk2k4",
    "outputId": "fbe2f051-1846-49b2-9e8b-1851c0ec8ef5"
   },
   "outputs": [
    {
     "name": "stdout",
     "output_type": "stream",
     "text": [
      "Test Statistic                -6.831718e+00\n",
      "p-value                        1.886305e-09\n",
      "#Lags Used                     1.400000e+01\n",
      "Number of Observations Used    1.870000e+02\n",
      "Critical Value (1%)           -3.465812e+00\n",
      "Critical Value (5%)           -2.877123e+00\n",
      "Critical Value (10%)          -2.575077e+00\n",
      "dtype: float64\n",
      "Strong evidence against the null hypothesis, reject the null hypothesis. Data has no unit root, hence it is stationary\n"
     ]
    }
   ],
   "source": [
    "TestStationaryAdfuller(CO2_seasonal_first_difference.dropna(inplace=False))"
   ]
  },
  {
   "cell_type": "markdown",
   "metadata": {
    "id": "4oYbQ5w8k2k4"
   },
   "source": [
    "# FIND OPTIMAL PARAMETERS AND BUILD ARIMA MODEL."
   ]
  },
  {
   "cell_type": "markdown",
   "metadata": {
    "id": "ztwOLUoDk2k4"
   },
   "source": [
    "1.Number of Auto-Regressive (AR) terms (p)\n",
    "2.Number of Moving Average(MA) terms (q)\n",
    "3.Number of Differences (d)"
   ]
  },
  {
   "cell_type": "markdown",
   "metadata": {
    "id": "QSXe-Pp7k2k5"
   },
   "source": [
    "# Plot the ACF and PACF charts and find the optimal parameters"
   ]
  },
  {
   "cell_type": "markdown",
   "metadata": {
    "id": "1_DfznZHk2k5"
   },
   "source": [
    "# 1.Autocorrelation Function (ACF)"
   ]
  },
  {
   "cell_type": "markdown",
   "metadata": {
    "id": "JjdcwXXmk2k5"
   },
   "source": [
    "It is a measure of the correlation between the the time series (ts) with a lagged version of itself.\n"
   ]
  },
  {
   "cell_type": "markdown",
   "metadata": {
    "id": "LhK-tSyhk2k6"
   },
   "source": [
    "# ACF and PACF plots"
   ]
  },
  {
   "cell_type": "code",
   "execution_count": 50,
   "metadata": {
    "colab": {
     "base_uri": "https://localhost:8080/",
     "height": 545
    },
    "id": "0urfa5XFk2k6",
    "outputId": "601d6b14-6eae-4416-85ac-1874673fd9b5"
   },
   "outputs": [
    {
     "data": {
      "image/png": "[encoded data removed]",
      "text/plain": [
       "<Figure size 432x288 with 1 Axes>"
      ]
     },
     "metadata": {
      "needs_background": "light"
     },
     "output_type": "display_data"
    },
    {
     "data": {
      "image/png": "[encoded data removed]",
      "text/plain": [
       "<Figure size 432x288 with 1 Axes>"
      ]
     },
     "metadata": {
      "needs_background": "light"
     },
     "output_type": "display_data"
    }
   ],
   "source": [
    "import statsmodels.graphics.tsaplots as tsa_plots\n",
    "tsa_plots.plot_acf(carbondioxide_level.CO2,lags=12)\n",
    "tsa_plots.plot_pacf(carbondioxide_level.CO2)\n",
    "plt.show()"
   ]
  },
  {
   "cell_type": "code",
   "execution_count": 51,
   "metadata": {
    "id": "CSS2ce2vk2k6"
   },
   "outputs": [],
   "source": [
    "import statsmodels.api as sm\n",
    "import matplotlib.pyplot as plt\n",
    "from matplotlib.pylab import rcParams\n",
    "rcParams['figure.figsize'] = 15, 12\n",
    "import statsmodels.formula.api as smf \n",
    "from statsmodels.tsa.seasonal import seasonal_decompose\n",
    "import warnings\n",
    "import itertools\n",
    "warnings.filterwarnings(\"ignore\") "
   ]
  },
  {
   "cell_type": "markdown",
   "metadata": {
    "id": "abthoA3xk2k7"
   },
   "source": [
    "# GRID SEARCH"
   ]
  },
  {
   "cell_type": "markdown",
   "metadata": {
    "id": "xtyrt3cEk2k7"
   },
   "source": [
    "To find the optimal parameters for ARIMA models using the graphical method is not trivial and it is time consuming. We will select the optimal parameter values systematically using the grid search (hyperparameter optimization) method. The grid search iteratively explore different combinations of the parameters."
   ]
  },
  {
   "cell_type": "code",
   "execution_count": 52,
   "metadata": {
    "colab": {
     "base_uri": "https://localhost:8080/"
    },
    "id": "-4ve3wDvk2k8",
    "outputId": "abd1e212-e81a-4630-d564-86ebfe19f090"
   },
   "outputs": [
    {
     "name": "stdout",
     "output_type": "stream",
     "text": [
      "[(0, 0, 0), (0, 0, 1), (0, 1, 0), (0, 1, 1), (1, 0, 0), (1, 0, 1), (1, 1, 0), (1, 1, 1)]\n",
      "[(0, 0, 0, 12), (0, 0, 1, 12), (0, 1, 0, 12), (0, 1, 1, 12), (1, 0, 0, 12), (1, 0, 1, 12), (1, 1, 0, 12), (1, 1, 1, 12)]\n"
     ]
    }
   ],
   "source": [
    "p = d = q = range(0, 2) # Define the p, d and q parameters to take any value between 0 and 2\n",
    "pdq = list(itertools.product(p, d, q)) # Generate all different combinations of p, q and q triplets\n",
    "pdq_x_QDQs = [(x[0], x[1], x[2], 12) for x in list(itertools.product(p, d, q))] # Generate all different combinations of seasonal p, q and q triplets\n",
    "print(pdq)\n",
    "print(pdq_x_QDQs)"
   ]
  },
  {
   "cell_type": "markdown",
   "metadata": {
    "id": "9mqkN1rRk2k9"
   },
   "source": [
    "The order argument specifies the (p, d, q) parameters, while the seasonal_order argument specifies the (P, D, Q, S) seasonal component of the Seasonal ARIMA model. After fitting each SARIMAX()model, the code prints out its respective AIC score"
   ]
  },
  {
   "cell_type": "markdown",
   "metadata": {
    "id": "bz7TmfFjk2k9"
   },
   "source": [
    "# AIC (Akaike Information Criterion) value"
   ]
  },
  {
   "cell_type": "markdown",
   "metadata": {
    "id": "vV0PvaCUk2k-"
   },
   "source": [
    "AIC will choose the best model from a set(The “best” model will be the one that neither under-fits nor over-fits.),then consider running a hypothesis test to figure out the relationship between the variables in your model and the outcome of interest."
   ]
  },
  {
   "cell_type": "code",
   "execution_count": 53,
   "metadata": {
    "id": "r1E1oakQk2k-"
   },
   "outputs": [],
   "source": [
    "for param in pdq:\n",
    "    for seasonal_param in pdq_x_QDQs:\n",
    "        try:\n",
    "            mod = sm.tsa.statespace.SARIMAX(carbondioxide_level,\n",
    "                                            order=param,\n",
    "                                            seasonal_order=seasonal_param,\n",
    "                                            enforce_stationarity=False,\n",
    "                                            enforce_invertibility=False)\n",
    "            results = mod.fit()\n",
    "            print('ARIMA{}x{} - AIC:{}'.format(param, param_seasonal, results.aic))\n",
    "        except:\n",
    "            continue"
   ]
  },
  {
   "cell_type": "code",
   "execution_count": 54,
   "metadata": {
    "id": "tHnQqOF-k2k-"
   },
   "outputs": [],
   "source": [
    "a=[]\n",
    "b=[]\n",
    "c=[]\n",
    "wf=pd.DataFrame()"
   ]
  },
  {
   "cell_type": "code",
   "execution_count": 55,
   "metadata": {
    "colab": {
     "base_uri": "https://localhost:8080/"
    },
    "id": "2wK2EGYyk2k_",
    "outputId": "228a53b8-4ecc-40af-81f8-7814693b47fb"
   },
   "outputs": [
    {
     "name": "stdout",
     "output_type": "stream",
     "text": [
      "                                      SARIMAX Results                                       \n",
      "============================================================================================\n",
      "Dep. Variable:                                  CO2   No. Observations:                  215\n",
      "Model:             SARIMAX(0, 1, 0)x(0, 0, [1], 12)   Log Likelihood                -176.216\n",
      "Date:                              Wed, 21 Jul 2021   AIC                            356.432\n",
      "Time:                                      14:37:42   BIC                            363.164\n",
      "Sample:                                  01-01-1800   HQIC                           359.152\n",
      "                                       - 01-01-2014                                         \n",
      "Covariance Type:                                opg                                         \n",
      "==============================================================================\n",
      "                 coef    std err          z      P>|z|      [0.025      0.975]\n",
      "------------------------------------------------------------------------------\n",
      "ma.S.L12      -0.0465      0.050     -0.925      0.355      -0.145       0.052\n",
      "sigma2         0.3039      0.018     16.655      0.000       0.268       0.340\n",
      "===================================================================================\n",
      "Ljung-Box (L1) (Q):                   0.35   Jarque-Bera (JB):               133.82\n",
      "Prob(Q):                              0.56   Prob(JB):                         0.00\n",
      "Heteroskedasticity (H):             230.10   Skew:                            -0.10\n",
      "Prob(H) (two-sided):                  0.00   Kurtosis:                         6.87\n",
      "===================================================================================\n",
      "\n",
      "Warnings:\n",
      "[1] Covariance matrix calculated using the outer product of gradients (complex-step).\n"
     ]
    }
   ],
   "source": [
    "mod = sm.tsa.statespace.SARIMAX(carbondioxide_level.CO2, trend='n', order=(0,1,0), seasonal_order=(0,0,1,12))\n",
    "results = mod.fit()\n",
    "print(results.summary())"
   ]
  },
  {
   "cell_type": "markdown",
   "metadata": {
    "id": "mxgQlmCzk2k_"
   },
   "source": [
    "# The coef column shows the weight (i.e. importance) of each feature and how each one impacts the time series. The P>|z| column informs us of the significance of each feature weight. Here, each weight has a p-value close to 0, so it is reasonable to include the features in our model."
   ]
  },
  {
   "cell_type": "markdown",
   "metadata": {
    "id": "AoONZatmk2k_"
   },
   "source": [
    "# Get a line plot of the residual errors, suggesting that there may still be some trend information not captured by the model."
   ]
  },
  {
   "cell_type": "code",
   "execution_count": 56,
   "metadata": {
    "colab": {
     "base_uri": "https://localhost:8080/",
     "height": 500
    },
    "id": "TaICYGNTk2k_",
    "outputId": "8c668d0b-e16d-4aef-e1d2-217acfa2ed1a"
   },
   "outputs": [
    {
     "data": {
      "text/plain": [
       "<AxesSubplot:xlabel='Year'>"
      ]
     },
     "execution_count": 56,
     "metadata": {},
     "output_type": "execute_result"
    },
    {
     "data": {
      "image/png": "[encoded data removed]",
      "text/plain": [
       "<Figure size 864x576 with 1 Axes>"
      ]
     },
     "metadata": {
      "needs_background": "light"
     },
     "output_type": "display_data"
    }
   ],
   "source": [
    "results.resid.plot(figsize=(12,8))"
   ]
  },
  {
   "cell_type": "code",
   "execution_count": 57,
   "metadata": {
    "colab": {
     "base_uri": "https://localhost:8080/"
    },
    "id": "NRrJGIofk2lA",
    "outputId": "28dcd9c0-4eb8-4f1a-e7ff-a32ac61c5d76"
   },
   "outputs": [
    {
     "name": "stdout",
     "output_type": "stream",
     "text": [
      "count    215.000000\n",
      "mean       0.073984\n",
      "std        0.546243\n",
      "min       -1.970341\n",
      "25%       -0.005524\n",
      "50%        0.004696\n",
      "75%        0.244870\n",
      "max        2.546826\n",
      "dtype: float64\n"
     ]
    }
   ],
   "source": [
    "print(results.resid.describe())"
   ]
  },
  {
   "cell_type": "markdown",
   "metadata": {
    "id": "NpFHeHtok2lA"
   },
   "source": [
    "# The figure displays the distribution of the residual errors. It shows a little bias in the prediction."
   ]
  },
  {
   "cell_type": "markdown",
   "metadata": {
    "id": "Q62_t4vgk2lA"
   },
   "source": [
    "# we get a density plot of the residual error values, suggesting the errors are Gaussian, but may not be centered on zero."
   ]
  },
  {
   "cell_type": "code",
   "execution_count": 58,
   "metadata": {
    "colab": {
     "base_uri": "https://localhost:8080/",
     "height": 500
    },
    "id": "kPhgwgXYk2lB",
    "outputId": "2a27bac9-16b3-44e5-d081-9474faad64f6"
   },
   "outputs": [
    {
     "data": {
      "text/plain": [
       "<AxesSubplot:ylabel='Density'>"
      ]
     },
     "execution_count": 58,
     "metadata": {},
     "output_type": "execute_result"
    },
    {
     "data": {
      "image/png": "[encoded data removed]",
      "text/plain": [
       "<Figure size 864x576 with 1 Axes>"
      ]
     },
     "metadata": {
      "needs_background": "light"
     },
     "output_type": "display_data"
    }
   ],
   "source": [
    "results.resid.plot(figsize=(12,8),kind='kde')"
   ]
  },
  {
   "cell_type": "code",
   "execution_count": 59,
   "metadata": {
    "colab": {
     "base_uri": "https://localhost:8080/",
     "height": 730
    },
    "id": "pWNNPP8Yk2lB",
    "outputId": "67e218dd-b848-4add-f588-da3aa503a45f"
   },
   "outputs": [
    {
     "data": {
      "image/png": "[encoded data removed]",
      "text/plain": [
       "<Figure size 1080x864 with 4 Axes>"
      ]
     },
     "metadata": {
      "needs_background": "light"
     },
     "output_type": "display_data"
    }
   ],
   "source": [
    "results.plot_diagnostics(figsize=(15, 12))\n",
    "plt.show()"
   ]
  },
  {
   "cell_type": "markdown",
   "metadata": {
    "id": "vH3Ysk1Ok2lB"
   },
   "source": [
    "#### The model diagnostic suggests that the model residual is normally distributed based on the following:\n",
    "\n",
    "In the top right plot, the red KDE line follows closely with the N(0,1) line. Where, N(0,1) is the standard notation for a normal distribution with mean 0 and standard deviation of 1. This is a good indication that the residuals are normally distributed. The forecast errors deviate somewhat from the straight line, indicating that the normal distribution is not a perfect model for the distribution of forecast errors, but it is not unreasonable.\n",
    "\n",
    "The qq-plot on the bottom left shows that the ordered distribution of residuals (blue dots) follows the linear trend of the samples taken from a standard normal distribution. Again, this is a strong indication that the residuals are normally distributed.\n",
    "\n",
    "The residuals over time (top left plot) don't display any obvious seasonality and appear to be white noise. This is confirmed by the autocorrelation (i.e. correlogram) plot on the bottom right, which shows that the time series residuals have low correlation with lagged versions of itself.\n",
    "\n"
   ]
  },
  {
   "cell_type": "markdown",
   "metadata": {
    "id": "NzBH7Tozk2lC"
   },
   "source": [
    "# conclude that our model produces a satisfactory fit that could help us understand our time series data and forecast future values."
   ]
  },
  {
   "cell_type": "markdown",
   "metadata": {
    "id": "vjJyvHURk2lC"
   },
   "source": [
    "# VALIDATING PREDICTION"
   ]
  },
  {
   "cell_type": "markdown",
   "metadata": {
    "id": "--ApDMHnk2lD"
   },
   "source": [
    "# We will compare predicted values to real values of the time series, which will help us understand the accuracy of our forecast."
   ]
  },
  {
   "cell_type": "markdown",
   "metadata": {},
   "source": [
    "# FORECASTING : "
   ]
  },
  {
   "cell_type": "markdown",
   "metadata": {},
   "source": [
    "The forecasting methods I will cover are:\n",
    "   * Seasonal Naive \n",
    "   * Triple Exponential Smoothing (Holt Winter's)\n",
    "   * SARIMA\n",
    "   * Linear Model\n",
    "   * Exponential Smoothing\n",
    "   * Quadratic Model"
   ]
  },
  {
   "cell_type": "code",
   "execution_count": 60,
   "metadata": {
    "colab": {
     "base_uri": "https://localhost:8080/",
     "height": 513
    },
    "id": "ZC_1FGwH14nh",
    "outputId": "0b6e2840-5ec0-4625-be0b-a3b257268724"
   },
   "outputs": [
    {
     "name": "stdout",
     "output_type": "stream",
     "text": [
      "Collecting pmdarima\n",
      "  Downloading pmdarima-1.8.2-cp38-cp38-win_amd64.whl (596 kB)\n",
      "Requirement already satisfied: scipy>=1.3.2 in e:\\programdata\\anaconda3\\lib\\site-packages (from pmdarima) (1.5.2)\n",
      "Requirement already satisfied: numpy~=1.19.0 in e:\\programdata\\anaconda3\\lib\\site-packages (from pmdarima) (1.19.2)\n",
      "Requirement already satisfied: setuptools!=50.0.0,>=38.6.0 in e:\\programdata\\anaconda3\\lib\\site-packages (from pmdarima) (50.3.1.post20201107)\n",
      "Requirement already satisfied: urllib3 in e:\\programdata\\anaconda3\\lib\\site-packages (from pmdarima) (1.25.11)\n",
      "Requirement already satisfied: scikit-learn>=0.22 in e:\\programdata\\anaconda3\\lib\\site-packages (from pmdarima) (0.23.2)\n",
      "Requirement already satisfied: Cython!=0.29.18,>=0.29 in e:\\programdata\\anaconda3\\lib\\site-packages (from pmdarima) (0.29.21)\n",
      "Collecting statsmodels!=0.12.0,>=0.11\n",
      "  Downloading statsmodels-0.12.2-cp38-none-win_amd64.whl (9.4 MB)\n",
      "Requirement already satisfied: joblib>=0.11 in e:\\programdata\\anaconda3\\lib\\site-packages (from pmdarima) (0.17.0)\n",
      "Requirement already satisfied: pandas>=0.19 in e:\\programdata\\anaconda3\\lib\\site-packages (from pmdarima) (1.1.3)\n",
      "Requirement already satisfied: threadpoolctl>=2.0.0 in e:\\programdata\\anaconda3\\lib\\site-packages (from scikit-learn>=0.22->pmdarima) (2.1.0)\n",
      "Requirement already satisfied: patsy>=0.5 in e:\\programdata\\anaconda3\\lib\\site-packages (from statsmodels!=0.12.0,>=0.11->pmdarima) (0.5.1)\n",
      "Requirement already satisfied: python-dateutil>=2.7.3 in e:\\programdata\\anaconda3\\lib\\site-packages (from pandas>=0.19->pmdarima) (2.8.1)\n",
      "Requirement already satisfied: pytz>=2017.2 in e:\\programdata\\anaconda3\\lib\\site-packages (from pandas>=0.19->pmdarima) (2020.1)\n",
      "Requirement already satisfied: six in e:\\programdata\\anaconda3\\lib\\site-packages (from patsy>=0.5->statsmodels!=0.12.0,>=0.11->pmdarima) (1.15.0)\n",
      "Installing collected packages: statsmodels, pmdarima\n",
      "  Attempting uninstall: statsmodels\n",
      "    Found existing installation: statsmodels 0.12.0\n",
      "    Uninstalling statsmodels-0.12.0:\n",
      "      Successfully uninstalled statsmodels-0.12.0\n"
     ]
    },
    {
     "name": "stderr",
     "output_type": "stream",
     "text": [
      "ERROR: Could not install packages due to an EnvironmentError: [WinError 5] Access is denied: 'E:\\\\ProgramData\\\\Anaconda3\\\\Lib\\\\site-packages\\\\~tatsmodels\\\\nonparametric\\\\linbin.cp38-win_amd64.pyd'\n",
      "Consider using the `--user` option or check the permissions.\n",
      "\n"
     ]
    }
   ],
   "source": [
    "!pip install pmdarima"
   ]
  },
  {
   "cell_type": "code",
   "execution_count": 61,
   "metadata": {
    "id": "UF5E72mp00Gz"
   },
   "outputs": [
    {
     "ename": "ModuleNotFoundError",
     "evalue": "No module named 'altair'",
     "output_type": "error",
     "traceback": [
      "\u001b[1;31m---------------------------------------------------------------------------\u001b[0m",
      "\u001b[1;31mModuleNotFoundError\u001b[0m                       Traceback (most recent call last)",
      "\u001b[1;32m<ipython-input-61-4ca712ba4482>\u001b[0m in \u001b[0;36m<module>\u001b[1;34m\u001b[0m\n\u001b[0;32m      6\u001b[0m \u001b[1;32mimport\u001b[0m \u001b[0mmatplotlib\u001b[0m\u001b[1;33m.\u001b[0m\u001b[0mpyplot\u001b[0m \u001b[1;32mas\u001b[0m \u001b[0mplt\u001b[0m\u001b[1;33m\u001b[0m\u001b[1;33m\u001b[0m\u001b[0m\n\u001b[0;32m      7\u001b[0m \u001b[1;32mimport\u001b[0m \u001b[0mseaborn\u001b[0m \u001b[1;32mas\u001b[0m \u001b[0msns\u001b[0m\u001b[1;33m\u001b[0m\u001b[1;33m\u001b[0m\u001b[0m\n\u001b[1;32m----> 8\u001b[1;33m \u001b[1;32mimport\u001b[0m \u001b[0maltair\u001b[0m \u001b[1;32mas\u001b[0m \u001b[0malt\u001b[0m\u001b[1;33m\u001b[0m\u001b[1;33m\u001b[0m\u001b[0m\n\u001b[0m\u001b[0;32m      9\u001b[0m \u001b[0mplt\u001b[0m\u001b[1;33m.\u001b[0m\u001b[0mstyle\u001b[0m\u001b[1;33m.\u001b[0m\u001b[0muse\u001b[0m\u001b[1;33m(\u001b[0m\u001b[1;34m'seaborn-white'\u001b[0m\u001b[1;33m)\u001b[0m\u001b[1;33m\u001b[0m\u001b[1;33m\u001b[0m\u001b[0m\n\u001b[0;32m     10\u001b[0m \u001b[0mpd\u001b[0m\u001b[1;33m.\u001b[0m\u001b[0mplotting\u001b[0m\u001b[1;33m.\u001b[0m\u001b[0mregister_matplotlib_converters\u001b[0m\u001b[1;33m(\u001b[0m\u001b[1;33m)\u001b[0m\u001b[1;33m\u001b[0m\u001b[1;33m\u001b[0m\u001b[0m\n",
      "\u001b[1;31mModuleNotFoundError\u001b[0m: No module named 'altair'"
     ]
    }
   ],
   "source": [
    "import pandas as pd\n",
    "import numpy as np\n",
    "import itertools\n",
    "\n",
    "#Plotting libraries\n",
    "import matplotlib.pyplot as plt\n",
    "import seaborn as sns\n",
    "import altair as alt\n",
    "plt.style.use('seaborn-white')\n",
    "pd.plotting.register_matplotlib_converters()\n",
    "%matplotlib inline\n",
    "\n",
    "#statistics libraries\n",
    "import statsmodels.api as sm\n",
    "import scipy\n",
    "from scipy.stats import anderson\n",
    "from statsmodels.tools.eval_measures import rmse\n",
    "from statsmodels.tsa.stattools import adfuller\n",
    "from statsmodels.graphics.tsaplots import month_plot, seasonal_plot, plot_acf, plot_pacf, quarter_plot\n",
    "from statsmodels.tsa.seasonal import seasonal_decompose\n",
    "from statsmodels.tsa.holtwinters import ExponentialSmoothing, SimpleExpSmoothing\n",
    "from statsmodels.stats.diagnostic import acorr_ljungbox as ljung\n",
    "from statsmodels.tsa.statespace.tools import diff as diff\n",
    "from statsmodels.tsa.statespace.sarimax import SARIMAX\n",
    "import pmdarima as pm\n",
    "from pmdarima import ARIMA, auto_arima\n",
    "from scipy import signal\n",
    "from scipy.stats import shapiro\n",
    "from scipy.stats import boxcox\n",
    "from scipy.special import inv_boxcox\n",
    "from sklearn.preprocessing import StandardScaler\n",
    "from scipy.stats import jarque_bera as jb\n",
    "from itertools import combinations\n",
    "\n",
    "\n",
    "\n",
    "\n",
    "\n",
    "import warnings\n",
    "warnings.filterwarnings(\"ignore\")\n",
    "np.random.seed(786)\n"
   ]
  },
  {
   "cell_type": "code",
   "execution_count": null,
   "metadata": {
    "colab": {
     "base_uri": "https://localhost:8080/"
    },
    "id": "mJHc2Z4y1d3D",
    "outputId": "62dacbfa-a3f5-44bc-b846-70e3451fd1b8"
   },
   "outputs": [],
   "source": [
    "# Printing library versions\n",
    "\n",
    "print('Pandas:', pd.__version__)\n",
    "print('Statsmodels:', sm.__version__)\n",
    "print('Scipy:', scipy.__version__)\n",
    "print('Numpy:', np.__version__)"
   ]
  },
  {
   "cell_type": "markdown",
   "metadata": {},
   "source": [
    "### Various Functions Used :"
   ]
  },
  {
   "cell_type": "markdown",
   "metadata": {},
   "source": [
    "Below are some of the custom functions I wrote for forecast accuracy, gridsearching, residual diagnostics."
   ]
  },
  {
   "cell_type": "code",
   "execution_count": null,
   "metadata": {
    "id": "ctkfIyNt2TZd"
   },
   "outputs": [],
   "source": [
    "def MAPE(y_true, y_pred): \n",
    "    \"\"\"\n",
    "    %Error compares true value with predicted value. Lower the better. Use this along with rmse(). If the series has \n",
    "    outliers, compare/select model using MAPE instead of rmse()\n",
    "    \n",
    "    \"\"\"\n",
    "    y_true, y_pred = np.array(y_true), np.array(y_pred)\n",
    "    return np.mean(np.abs((y_true - y_pred) / y_true)) * 100\n",
    "\n",
    "def HWGrid(train, test, seasonal_periods):\n",
    "    \"\"\"\n",
    "    Functions returns a dataframe with parameters of the Holt-Winter's method and corresponding train & test evaluation scores. \n",
    "    It also does a quick check of the residuals using Ljung-Box test and Shapiro test for normality. \n",
    "    Residuals must be uncorrelated. \n",
    "    \n",
    "    train: (pandas series)\n",
    "        -  Training data\n",
    "        \n",
    "    test: (pandas series)\n",
    "        -  Test data\n",
    "    \n",
    "    Seasonal_periods: int\n",
    "        - No of seasonas in the time period. e.g. 4 for Quarterly, 12 for Monthly, 52 for Weekly data\n",
    "        \n",
    "    \"\"\"\n",
    "\n",
    "\n",
    "    trend      = ['add','mul']\n",
    "    seasonal   = ['add','mul']\n",
    "    damped     = [False, True]\n",
    "    use_boxcox = [False, True, 'log']\n",
    "\n",
    "    params = itertools.product(trend,seasonal,damped,use_boxcox)\n",
    "\n",
    "    result_df = pd.DataFrame(columns=['Trend', 'Seasonal', 'Damped', 'BoxCox','AICc Train',  \n",
    "                                      '%MAPE_Train', 'RMSE_Train', '%MAPE_Test', \n",
    "                                      'RMSE_Test', \"Resid_LJ\", \"Resid_Norm\",\"Resid_mean\" ])\n",
    "    \n",
    "    \n",
    "    for trend,seasonal,damped,use_boxcox in params:\n",
    "    \n",
    "            model = ExponentialSmoothing(train, \n",
    "                                     trend=trend,\n",
    "                                     damped=damped,\n",
    "                                     seasonal=seasonal,\n",
    "                                     seasonal_periods=seasonal_periods).fit(use_boxcox=use_boxcox)\n",
    "    \n",
    "    \n",
    "            \n",
    "            mape1=MAPE(train,model.fittedvalues) \n",
    "            rmse1=rmse(train,model.fittedvalues)\n",
    "\n",
    "            mape2=MAPE(test,model.forecast(len(test))) \n",
    "            rmse2=rmse(test,model.forecast(len(test)))\n",
    "\n",
    "            aicc1 = model.aicc.round(1)\n",
    "\n",
    "               \n",
    "    \n",
    "            lj_p_val = np.mean(ljung(x=model.resid, lags=10)[1])\n",
    "            norm_p_val =  jb(model.resid)[1]#shapiro(model.resid)[1]\n",
    "    \n",
    "            lj = \"Uncorrelated\" if lj_p_val > 0.05 else \"Correlated\"\n",
    "            norm = \"Normal\" if norm_p_val > 0.05 else \"Non-Normal\"\n",
    "            \n",
    "    \n",
    "            result_df = result_df.append({'Trend':trend       ,\n",
    "                              'Seasonal': seasonal            ,\n",
    "                              'Damped':damped                 ,\n",
    "                              'BoxCox':use_boxcox             ,\n",
    "                              '%MAPE_Train':np.round(mape1,2) ,\n",
    "                              'RMSE_Train':np.round(rmse1,1)  ,\n",
    "                              'AICc Train':aicc1              ,\n",
    "                              '%MAPE_Test':np.round(mape2,2)  ,\n",
    "                              'RMSE_Test':np.round(rmse2,1)   ,\n",
    "                              'Resid_LJ' :lj                  ,\n",
    "                              'Resid_Norm':norm               ,\n",
    "                              'Resid_mean':np.round(model.resid.mean(),1)} , ignore_index=True, sort=False)\n",
    "    \n",
    "    \n",
    "    return result_df.sort_values(by=[\"RMSE_Test\", \"%MAPE_Test\",\"RMSE_Train\",\"%MAPE_Train\"]).style.format({\"%MAPE_Train\":\"{:20,.2f}%\", \"%MAPE_Test\": \"{:20,.2f}%\"}).highlight_min(color='lightgreen')\n",
    "    \n"
   ]
  },
  {
   "cell_type": "markdown",
   "metadata": {},
   "source": [
    "Calculating cross-validation score for Holt-Winter's method in Python "
   ]
  },
  {
   "cell_type": "code",
   "execution_count": null,
   "metadata": {
    "id": "5m9Gsnn32atZ"
   },
   "outputs": [],
   "source": [
    "def hw_cv(series, seasonal_periods, initial_train_window, test_window):\n",
    "    \n",
    "    from statsmodels.tools.eval_measures import rmse\n",
    "    import warnings\n",
    "    warnings.filterwarnings(\"ignore\")\n",
    "    \n",
    "    \"\"\"\n",
    "     \n",
    "     Returns Rolling and Expanding cross-validation scores (avg rmse), along with model paramters\n",
    "     for Triple Exponential Smoothing method. Expanding expands the training set each time by adding one observation, \n",
    "     while rolling slides the training and test by one observation each time. \n",
    "     \n",
    "     Output shows parameters used and Rolling & Expanding cv scores. Output is in below order:\n",
    "          1. Trend 2. Seasonal 3. Damped 4. use_boxcox 5. Rolling cv 6. Expanding cv \n",
    "     \n",
    "     Requirements: Pandas, Numpy, Statsmodels, itertools, rmse \n",
    "     \n",
    "     series: Pandas Series\n",
    "             Time series \n",
    "     \n",
    "     seasonal_periods: int\n",
    "             No of seasonal periods in a full cycle (e.g. 4 in quarter, 12 in monthly, 52 in weekly data)\n",
    "             \n",
    "     initial_train_window: int\n",
    "             Minimum training set length. Recommended to use minimum 2 * seasonal_periods\n",
    "     \n",
    "     test_window: int\n",
    "             Test set length. Recommended to use equal to forecast horizon\n",
    "             \n",
    "     e.g. hw_cv(ts[\"Sales\"], 4, 12, 6 )\n",
    "          Output: add add False False    R: 41.3   ,E: 39.9\n",
    "\n",
    "          \n",
    "     Note: This function can take anywhere from 5-15 min to run full output        \n",
    "    \n",
    "     \n",
    "    \n",
    "    \n",
    "    \"\"\"\n",
    "    \n",
    "    \n",
    "    def expanding_tscv(series,trend,seasonal,seasonal_periods,damped,boxcox,initial_train_window, test_window):\n",
    "        i =  0\n",
    "        x = initial_train_window\n",
    "        t = test_window\n",
    "        errors_roll=[]\n",
    "\n",
    "        while (i+x+t) <len(series):\n",
    "            train_ts=series[:(i+x)].values\n",
    "            test_ts= series[(i+x):(i+x+t)].values\n",
    "            model_roll = ExponentialSmoothing(train_ts,\n",
    "                                         trend=trend,\n",
    "                                         seasonal=seasonal,\n",
    "                                         seasonal_periods=seasonal_periods,\n",
    "                                         damped=damped).fit(use_boxcox=boxcox)\n",
    "\n",
    "            fcast = model_roll.forecast(t)\n",
    "\n",
    "            error_roll = rmse(test_ts, fcast)\n",
    "\n",
    "            errors_roll.append(error_roll)\n",
    "\n",
    "            i=i+1\n",
    "\n",
    "\n",
    "        return np.mean(errors_roll).round(1)\n",
    "\n",
    "    def rolling_tscv(series,trend,seasonal,seasonal_periods,damped,boxcox,initial_train_window, test_window):\n",
    "        i =  0\n",
    "        x = initial_train_window\n",
    "        t = test_window\n",
    "        errors_roll=[]\n",
    "\n",
    "        while (i+x+t) <len(series):\n",
    "            train_ts=series[(i):(i+x)].values\n",
    "            test_ts= series[(i+x):(i+x+t)].values\n",
    "            model_roll = ExponentialSmoothing(train_ts,\n",
    "                                         trend=trend,\n",
    "                                         seasonal=seasonal,\n",
    "                                         seasonal_periods=seasonal_periods,\n",
    "                                         damped=damped).fit(use_boxcox=boxcox)\n",
    "\n",
    "            fcast = model_roll.forecast(t)\n",
    "\n",
    "            error_roll = rmse(test_ts, fcast)\n",
    "\n",
    "            errors_roll.append(error_roll)\n",
    "\n",
    "            i=i+1\n",
    "\n",
    "   \n",
    "        return np.mean(errors_roll).round(1)\n",
    "   \n",
    "    trend      = ['add','mul']\n",
    "    seasonal   = ['add','mul']\n",
    "    damped     = [False, True]\n",
    "    use_boxcox = [False, True, 'log']\n",
    "\n",
    "    params = itertools.product(trend,seasonal,damped,use_boxcox)\n",
    "\n",
    "    for trend,seasonal,damped,use_boxcox in params:\n",
    "        r=rolling_tscv(carbondioxide_level[\"CO2\"], trend, seasonal, 4, damped, use_boxcox, 12,4)\n",
    "        e=expanding_tscv(carbondioxide_level[\"CO2\"], trend, seasonal, 4, damped, use_boxcox, 12,4)\n",
    "        result = print(trend, seasonal, damped, use_boxcox,\"   R:\", r,\"  ,E:\", e)\n",
    "          \n",
    "    return result"
   ]
  },
  {
   "cell_type": "markdown",
   "metadata": {},
   "source": [
    "Function for residual diagnostics"
   ]
  },
  {
   "cell_type": "code",
   "execution_count": null,
   "metadata": {
    "id": "fXMAk-xb2fdM"
   },
   "outputs": [],
   "source": [
    "def residcheck(residuals, lags):\n",
    "    \"\"\"\n",
    "    Function to check if the residuals are white noise. Ideally the residuals should be uncorrelated, zero mean, \n",
    "    constant variance and normally distributed. First two are must, while last two are good to have. \n",
    "    If the first two are not met, we have not fully captured the information from the data for prediction. \n",
    "    Consider different model and/or add exogenous variable. \n",
    "    \n",
    "    If Ljung Box test shows p> 0.05, the residuals as a group are white noise. Some lags might still be significant. \n",
    "    \n",
    "    Lags should be min(2*seasonal_period, T/5)\n",
    "    \n",
    "    plots from: https://tomaugspurger.github.io/modern-7-timeseries.html\n",
    "    \n",
    "    \"\"\"\n",
    "    resid_mean = np.mean(residuals)\n",
    "    lj_p_val = np.mean(ljung(x=residuals, lags=lags)[1])\n",
    "    norm_p_val =  jb(residuals)[1]\n",
    "    adfuller_p = adfuller(residuals)[1]\n",
    "    \n",
    "    \n",
    "    \n",
    "    fig = plt.figure(figsize=(10,8))\n",
    "    layout = (2, 2)\n",
    "    ts_ax = plt.subplot2grid(layout, (0, 0), colspan=2);\n",
    "    acf_ax = plt.subplot2grid(layout, (1, 0));\n",
    "    kde_ax = plt.subplot2grid(layout, (1, 1));\n",
    "\n",
    "    residuals.plot(ax=ts_ax)\n",
    "    plot_acf(residuals, lags=lags, ax=acf_ax);\n",
    "    sns.kdeplot(residuals);\n",
    "    #[ax.set_xlim(1.5) for ax in [acf_ax, kde_ax]]\n",
    "    sns.despine()\n",
    "    plt.tight_layout();\n",
    "    \n",
    "    print(\"** Mean of the residuals: \", np.around(resid_mean,2))\n",
    "    \n",
    "    print(\"\\n** Ljung Box Test, p-value:\", np.around(lj_p_val,3), \"(>0.05, Uncorrelated)\" if (lj_p_val > 0.05) else \"(<0.05, Correlated)\")\n",
    "    \n",
    "    print(\"\\n** Jarque Bera Normality Test, p_value:\", np.around(norm_p_val,3), \"(>0.05, Normal)\" if (norm_p_val>0.05) else \"(<0.05, Not-normal)\")\n",
    "    \n",
    "    print(\"\\n** AD Fuller, p_value:\", np.around(adfuller_p,3), \"(>0.05, Non-stationary)\"  if (adfuller_p > 0.05) else \"(<0.05, Stationary)\")\n",
    "    \n",
    "    \n",
    "    \n",
    "    return ts_ax, acf_ax, kde_ax\n"
   ]
  },
  {
   "cell_type": "markdown",
   "metadata": {},
   "source": [
    "Function for calculating RMSE & %MAPE"
   ]
  },
  {
   "cell_type": "code",
   "execution_count": null,
   "metadata": {
    "id": "vxZUgarz2jO2"
   },
   "outputs": [],
   "source": [
    "def accuracy(y1,y2):\n",
    "    \n",
    "    accuracy_df=pd.DataFrame()\n",
    "    \n",
    "    rms_error = np.round(rmse(y1, y2),1)\n",
    "    \n",
    "    map_error = np.round(np.mean(np.abs((np.array(y1) - np.array(y2)) / np.array(y1))) * 100,1)\n",
    "           \n",
    "    accuracy_df=accuracy_df.append({\"RMSE\":rms_error, \"%MAPE\": map_error}, ignore_index=True)\n",
    "    \n",
    "    return accuracy_df\n"
   ]
  },
  {
   "cell_type": "markdown",
   "metadata": {},
   "source": [
    "## Train Test Split : "
   ]
  },
  {
   "cell_type": "code",
   "execution_count": null,
   "metadata": {
    "colab": {
     "base_uri": "https://localhost:8080/"
    },
    "id": "JQIP3Ham2nNL",
    "outputId": "9d952e0a-8e44-43b2-a746-540febc3ae07"
   },
   "outputs": [],
   "source": [
    "#Split into train and test\n",
    "train = carbondioxide_level.head(179)\n",
    "test  = carbondioxide_level.tail(37)\n",
    "#forecast horizon\n",
    "h = 6\n",
    "train_length = len(train)\n",
    "\n",
    "print('train_length:',train_length, '\\ntest_length:', len(test) )\n",
    "\n",
    "#Creating BxCox transformed train & test to be used later\n",
    "train_bcox, bcox_lam = boxcox(train[\"CO2\"])\n",
    "print(\"BoxCox parameter to linearize the series:\", bcox_lam.round(2))\n",
    "test_bcox = boxcox(test[\"CO2\"], lmbda=bcox_lam)\n",
    "\n",
    "train_log = np.log(train[\"CO2\"])\n",
    "\n"
   ]
  },
  {
   "cell_type": "code",
   "execution_count": null,
   "metadata": {
    "colab": {
     "base_uri": "https://localhost:8080/",
     "height": 412
    },
    "id": "_wS-o-xJ3ZmU",
    "outputId": "5d3b1a90-3c67-41a5-c21a-72d32e29f6b8"
   },
   "outputs": [],
   "source": [
    "#collapse-hide\n",
    "#Create line chart for Training data. index is reset to use Date column\n",
    "train_chart=alt.Chart(train.reset_index()).mark_line(point=True).encode(\n",
    "    x='Year', \n",
    "    y='CO2', \n",
    "    tooltip=['Year', 'CO2'])\n",
    "\n",
    "#Create Rolling mean. This centered rolling mean \n",
    "rolling_mean = alt.Chart(train.reset_index()).mark_trail(\n",
    "    color='orange',\n",
    "    size=1\n",
    ").transform_window(\n",
    "    rolling_mean='mean(CO2)',\n",
    "    frame=[-4,4]\n",
    ").encode(\n",
    "    x='Year:T',\n",
    "    y='rolling_mean:Q',\n",
    "    size='CO2'\n",
    ")\n",
    "\n",
    "#Add data labels\n",
    "text = train_chart.mark_text(\n",
    "    align='left',\n",
    "    baseline='top',\n",
    "    dx=5  # Moves text to right so it doesn't appear on top of the bar\n",
    ").encode(\n",
    "    text='CO2:Q'\n",
    ")\n",
    "\n",
    "#Add zoom-in/out\n",
    "scales = alt.selection_interval(bind='scales')\n",
    "\n",
    "#Combine everything\n",
    "(train_chart + rolling_mean +text).properties(\n",
    "    width=800, \n",
    "    title=\"CO2 Emission Level & 4Q Rolling mean\").add_selection(\n",
    "    scales\n",
    ")"
   ]
  },
  {
   "cell_type": "markdown",
   "metadata": {},
   "source": [
    "## Seasonal Naive : "
   ]
  },
  {
   "cell_type": "markdown",
   "metadata": {},
   "source": [
    "This method is not available in statsmodels library so I wrote a function for it."
   ]
  },
  {
   "cell_type": "code",
   "execution_count": null,
   "metadata": {
    "id": "bqN8wRc-4KE1"
   },
   "outputs": [],
   "source": [
    "def pysnaive(train_series,seasonal_periods,forecast_horizon):\n",
    "    '''\n",
    "    Python implementation of Seasonal Naive Forecast. \n",
    "    This should work similar to https://otexts.com/fpp2/simple-methods.html\n",
    "    Returns two arrays\n",
    "     > fitted: Values fitted to the training dataset\n",
    "     > fcast: seasonal naive forecast\n",
    "    \n",
    "    \n",
    "    train_series: Pandas Series\n",
    "        Training Series to be used for forecasting. This should be a valid Pandas Series. \n",
    "        Length of the Training set should be greater than or equal to number of seasonal periods\n",
    "        \n",
    "    Seasonal_periods: int\n",
    "        No of seasonal periods\n",
    "        Yearly=1\n",
    "        Quarterly=4\n",
    "        Monthly=12\n",
    "        Weekly=52\n",
    "        \n",
    "\n",
    "    Forecast_horizon: int\n",
    "        Number of values to forecast into the future\n",
    "    \n",
    "    e.g. \n",
    "    fitted_values = pysnaive(train,12,12)[0]\n",
    "    fcast_values = pysnaive(train,12,12)[1]\n",
    "    '''\n",
    "    \n",
    "    if len(train_series)>= seasonal_periods: #checking if there are enough observations in the training data\n",
    "        \n",
    "        last_season=train_series.iloc[-seasonal_periods:]\n",
    "        \n",
    "        reps=np.int(np.ceil(forecast_horizon/seasonal_periods))\n",
    "        \n",
    "        fcarray=np.tile(last_season,reps)\n",
    "        \n",
    "        fcast=pd.Series(fcarray[:forecast_horizon])\n",
    "        \n",
    "        fitted = train_series.shift(seasonal_periods)\n",
    "        \n",
    "    else:\n",
    "        fcast=print(\"Length of the trainining set must be greater than number of seasonal periods\") \n",
    "    \n",
    "    return fitted, fcast"
   ]
  },
  {
   "cell_type": "code",
   "execution_count": null,
   "metadata": {
    "id": "m4H17Rzd5_v8"
   },
   "outputs": [],
   "source": [
    "#Before I create the model, I am going to create a dataframe to store all out-of=sample forecasts and the test set\n",
    "predictions = test.copy()"
   ]
  },
  {
   "cell_type": "code",
   "execution_count": null,
   "metadata": {
    "colab": {
     "base_uri": "https://localhost:8080/",
     "height": 1000
    },
    "id": "VupPJpnt6ElU",
    "outputId": "131425b9-a2e9-443f-dcaf-cf9855bac70f"
   },
   "outputs": [],
   "source": [
    "#Fitted values\n",
    "py_snaive_fit = pysnaive(train[\"CO2\"], \n",
    "                     seasonal_periods=4,\n",
    "                     forecast_horizon=37)[0]\n",
    "\n",
    "#forecast\n",
    "py_snaive = pysnaive(train[\"CO2\"], \n",
    "                     seasonal_periods=4,\n",
    "                     forecast_horizon=37)[1]\n",
    "\n",
    "#Residuals\n",
    "py_snaive_resid = (train[\"CO2\"] - py_snaive_fit).dropna()\n",
    "\n",
    "\n",
    "\n",
    "\n",
    "predictions[\"py_snaive\"] = py_snaive.values \n",
    "\n",
    "\n",
    "predictions"
   ]
  },
  {
   "cell_type": "code",
   "execution_count": null,
   "metadata": {
    "colab": {
     "base_uri": "https://localhost:8080/",
     "height": 479
    },
    "id": "6tTqZSPv6M5x",
    "outputId": "9ef9286e-8053-4658-f082-62b5f08bdb8e"
   },
   "outputs": [],
   "source": [
    "pd.plotting.register_matplotlib_converters()\n",
    "train[\"CO2\"].plot(figsize=(12,8))#, style=\"--\", color=\"gray\", legend=True, label=\"Train\")\n",
    "py_snaive_fit.plot(color=\"b\", legend=True, label=\"SNaive_Fitted\")\n",
    "predictions[\"CO2\"].plot(style=\"--\",color=\"r\", legend=True, label=\"Test\")\n",
    "predictions[\"py_snaive\"].plot(color=\"b\", legend=True, label=\"Snaive_fc\");"
   ]
  },
  {
   "cell_type": "code",
   "execution_count": null,
   "metadata": {
    "colab": {
     "base_uri": "https://localhost:8080/",
     "height": 80
    },
    "id": "_rwffQs06k2O",
    "outputId": "7d263e74-c703-475e-a467-ce558873bdbc"
   },
   "outputs": [],
   "source": [
    "#Training score\n",
    "accuracy(train[\"CO2\"].iloc[-len(py_snaive_fit.dropna()):], py_snaive_fit.dropna())"
   ]
  },
  {
   "cell_type": "code",
   "execution_count": null,
   "metadata": {
    "colab": {
     "base_uri": "https://localhost:8080/",
     "height": 80
    },
    "id": "7xwBii_t6vk5",
    "outputId": "a65a76b0-6c1c-4a50-e6f2-4051dd496b9f"
   },
   "outputs": [],
   "source": [
    "#Test score\n",
    "accuracy(predictions[\"CO2\"], predictions[\"py_snaive\"])"
   ]
  },
  {
   "cell_type": "code",
   "execution_count": null,
   "metadata": {
    "colab": {
     "base_uri": "https://localhost:8080/",
     "height": 704
    },
    "id": "Tp94kR5o7Oe5",
    "outputId": "664bbdf9-e457-45da-bb29-d8f6c4e83b6f"
   },
   "outputs": [],
   "source": [
    "residcheck(py_snaive_resid.dropna(),120);"
   ]
  },
  {
   "cell_type": "code",
   "execution_count": null,
   "metadata": {
    "colab": {
     "base_uri": "https://localhost:8080/",
     "height": 537
    },
    "id": "fywuZ59A75jb",
    "outputId": "6815b5a8-f0ed-4d67-f61e-7323022de455"
   },
   "outputs": [],
   "source": [
    "#PACF of Seasonal Snaive model residuals\n",
    "plot_acf(py_snaive_resid);\n",
    "plot_pacf(py_snaive_resid);"
   ]
  },
  {
   "cell_type": "markdown",
   "metadata": {},
   "source": [
    "## Triple Exponential Smoothing (Holt-Winter's Method)\n"
   ]
  },
  {
   "cell_type": "markdown",
   "metadata": {},
   "source": [
    "#### Grid Searching Triple Exponential Smoothing (Holt-Winter's Method) "
   ]
  },
  {
   "cell_type": "code",
   "execution_count": null,
   "metadata": {
    "id": "qenUIaQi80sg"
   },
   "outputs": [],
   "source": [
    "m=HWGrid(train[\"CO2\"], test[\"CO2\"], seasonal_periods=4)"
   ]
  },
  {
   "cell_type": "code",
   "execution_count": null,
   "metadata": {
    "colab": {
     "base_uri": "https://localhost:8080/",
     "height": 564
    },
    "id": "BEKOr1zX9SVd",
    "outputId": "5dbaeacd-7e7b-4656-d71c-3696737c1173"
   },
   "outputs": [],
   "source": [
    "m"
   ]
  },
  {
   "cell_type": "code",
   "execution_count": null,
   "metadata": {
    "colab": {
     "base_uri": "https://localhost:8080/",
     "height": 328
    },
    "id": "TI-QyLFH9V10",
    "outputId": "aaeabcb3-44d1-44d4-8595-49d7f39a148c"
   },
   "outputs": [],
   "source": [
    "hw_model = ExponentialSmoothing(train[\"CO2\"],\n",
    "                          trend    =\"add\",\n",
    "                          seasonal = \"add\", \n",
    "                          seasonal_periods=4, \n",
    "                          damped=False).fit(use_boxcox='log')\n",
    "\n",
    "hw_fitted = hw_model.fittedvalues\n",
    "\n",
    "hw_resid = hw_model.resid\n",
    "\n",
    "#Adding the mean of the residuals to correct the bias.\n",
    "py_hw = hw_model.forecast(len(test[\"CO2\"])) + np.mean(hw_resid)\n",
    "\n",
    "predictions[\"py_hw\"] = py_hw\n",
    "\n",
    "#Holt-Winter Parameters\n",
    "hw_model.params_formatted"
   ]
  },
  {
   "cell_type": "code",
   "execution_count": null,
   "metadata": {
    "colab": {
     "base_uri": "https://localhost:8080/",
     "height": 483
    },
    "id": "ZewOZi6E90ew",
    "outputId": "e1023d6e-e35d-4446-c681-18f0d778a7b1"
   },
   "outputs": [],
   "source": [
    "#Plotting\n",
    "\n",
    "train[\"CO2\"].plot(figsize=(12,8), style=\"--\", color=\"gray\", legend=True, label=\"Train\")\n",
    "hw_fitted.plot(color=\"b\", legend=True, label=\"HW_Fitted\")\n",
    "predictions[\"CO2\"].plot(style=\"--\",color=\"r\", legend=True, label=\"Test\")\n",
    "predictions[\"py_hw\"].plot(color=\"b\", legend=True, label=\"HW_Forecast\");"
   ]
  },
  {
   "cell_type": "code",
   "execution_count": null,
   "metadata": {
    "colab": {
     "base_uri": "https://localhost:8080/",
     "height": 291
    },
    "id": "uRscnBbfHtJI",
    "outputId": "7f8c7641-2abf-42a4-afc7-f9a38886215a"
   },
   "outputs": [],
   "source": [
    "#Simulating AR process\n",
    "from statsmodels.tsa.arima_process import ArmaProcess\n",
    "ar = np.array([1,-0.9])\n",
    "ma = np.array([1, 0.9])\n",
    "AR = ArmaProcess(ar=ar, ma=None)\n",
    "MA = ArmaProcess(ar=None, ma=ma)\n",
    "simulated_AR= AR.generate_sample(125)\n",
    "simulated_MA= MA.generate_sample(125)\n",
    "\n",
    "\n",
    "fig, (ax1, ax2) = plt.subplots(1, 2)\n",
    "# fig = plt.figure(figsize=(10,8))\n",
    "fig.suptitle('Simulated AR & MA Processes')\n",
    "ax1.plot(simulated_AR);\n",
    "ax2.plot(simulated_MA);"
   ]
  },
  {
   "cell_type": "code",
   "execution_count": null,
   "metadata": {
    "colab": {
     "base_uri": "https://localhost:8080/",
     "height": 537
    },
    "id": "_CGSgjWMIHUE",
    "outputId": "7c327464-25a7-43bb-e4db-e995741c6b6c"
   },
   "outputs": [],
   "source": [
    "plot_acf(train[\"CO2\"]);\n",
    "plot_pacf(train[\"CO2\"]);"
   ]
  },
  {
   "cell_type": "code",
   "execution_count": null,
   "metadata": {
    "colab": {
     "base_uri": "https://localhost:8080/",
     "height": 402
    },
    "id": "8HvrXfmqIPI8",
    "outputId": "b13a5a24-7184-4d6b-d038-b29313293393"
   },
   "outputs": [],
   "source": [
    "(auto_arima(train[\"CO2\"],\n",
    "           seasonal=True,\n",
    "           m=4,                          #seasonality_order 4\n",
    "           d=1,                          #ACF plot showed we need at least 1 differencing\n",
    "           information_criterion='aicc'). #You can choose AIC, BIC. AICc is corrected AIC\n",
    "           summary())"
   ]
  },
  {
   "cell_type": "code",
   "execution_count": null,
   "metadata": {
    "colab": {
     "base_uri": "https://localhost:8080/",
     "height": 291
    },
    "id": "PKzy-vCHIZ4o",
    "outputId": "9281fa8a-e58f-43f5-dc57-78137cf303b8"
   },
   "outputs": [],
   "source": [
    "#Creating SARIMA model in Python using statsmodels\n",
    "\n",
    "sarima_model=(SARIMAX(endog=train[\"CO2\"], \n",
    "               order=(0,1,1),\n",
    "               seasonal_order=(1,1,0,4),\n",
    "               trend='c',\n",
    "               enforce_invertibility=False))\n",
    "\n",
    "sarima_fit=sarima_model.fit()\n",
    "\n",
    "start = len(train)\n",
    "end = len(train) +len(test) -1\n",
    "\n",
    "sarima_fitted = sarima_fit.fittedvalues\n",
    "\n",
    "sarima_resid = sarima_fit.resid\n",
    "\n",
    "py_sarima = sarima_fit.predict(start, end, dynamic=False)\n",
    "\n",
    "predictions[\"py_sarima\"] = py_sarima\n",
    "\n",
    "sarima_fit.plot_diagnostics();\n",
    "\n"
   ]
  },
  {
   "cell_type": "code",
   "execution_count": null,
   "metadata": {
    "id": "ckvdF-txJMPO"
   },
   "outputs": [],
   "source": [
    "from sklearn.metrics import accuracy_score"
   ]
  },
  {
   "cell_type": "code",
   "execution_count": null,
   "metadata": {
    "colab": {
     "base_uri": "https://localhost:8080/",
     "height": 163
    },
    "id": "u_B0XBaFIoEd",
    "outputId": "f24d8eeb-0924-4c4c-93f1-1edf34cde729",
    "scrolled": true
   },
   "outputs": [],
   "source": [
    "accuracy(predictions.CO2,py_sarima)"
   ]
  },
  {
   "cell_type": "code",
   "execution_count": null,
   "metadata": {
    "id": "TKxrRLbEIupR"
   },
   "outputs": [],
   "source": [
    "#Fitting model to log of train\n",
    "\n",
    "(auto_arima(np.log(train[\"CO2\"]),\n",
    "           seasonal=True,\n",
    "           m=4,                           #seasonality_order 4\n",
    "           information_criterion='aicc'). #You can choose AIC, BIC. AICc is corrected AIC\n",
    "           summary())"
   ]
  },
  {
   "cell_type": "code",
   "execution_count": null,
   "metadata": {},
   "outputs": [],
   "source": [
    "sarima_logmodel=(SARIMAX(np.log(train[\"CO2\"]), \n",
    "               order=(0,0,0),\n",
    "               seasonal_order=(1,1,0,4),\n",
    "               trend='c',\n",
    "               enforce_invertibility=False)).fit()\n",
    "\n",
    "sarima_log = np.exp(sarima_logmodel.predict(start, end))\n",
    "\n",
    "predictions[\"sarima_log\"] = sarima_log\n",
    "\n",
    "slog_fitted = np.exp(sarima_logmodel.fittedvalues)\n"
   ]
  },
  {
   "cell_type": "code",
   "execution_count": null,
   "metadata": {},
   "outputs": [],
   "source": [
    "sarima_logmodel.plot_diagnostics();"
   ]
  },
  {
   "cell_type": "code",
   "execution_count": null,
   "metadata": {},
   "outputs": [],
   "source": [
    "accuracy(predictions.CO2,sarima_log )"
   ]
  },
  {
   "cell_type": "code",
   "execution_count": null,
   "metadata": {},
   "outputs": [],
   "source": [
    "#Plotting\n",
    "\n",
    "train[\"CO2\"].plot(figsize=(12,8), style=\"--\", color=\"gray\", legend=True, label=\"Train\")\n",
    "slog_fitted.plot(color=\"b\", legend=True, label=\"HW_Fitted\")\n",
    "predictions[\"CO2\"].plot(style=\"--\",color=\"r\", legend=True, label=\"Test\")\n",
    "predictions[\"sarima_log\"].plot(color=\"b\", legend=True, label=\"LogSARIMA_forecast\");"
   ]
  },
  {
   "cell_type": "code",
   "execution_count": null,
   "metadata": {},
   "outputs": [],
   "source": [
    "carbondioxide_level[\"t\"] = np.arange(1,216)\n",
    "\n",
    "carbondioxide_level[\"t_sq\"] = carbondioxide_level[\"t\"]*carbondioxide_level[\"t\"]\n",
    "\n",
    "carbondioxide_level[\"log_CO2\"] = np.log(carbondioxide_level[\"CO2\"])\n",
    "carbondioxide_level"
   ]
  },
  {
   "cell_type": "code",
   "execution_count": null,
   "metadata": {},
   "outputs": [],
   "source": [
    "\n",
    "#splitting data\n",
    "Train = carbondioxide_level.head(179)\n",
    "Test = carbondioxide_level.tail(37)"
   ]
  },
  {
   "cell_type": "markdown",
   "metadata": {},
   "source": [
    "### Linear Model :  "
   ]
  },
  {
   "cell_type": "code",
   "execution_count": null,
   "metadata": {},
   "outputs": [],
   "source": [
    "import statsmodels.formula.api as smf \n",
    "\n",
    "linear_model = smf.ols('CO2~t',data=Train).fit()\n",
    "pred_linear =  pd.Series(linear_model.predict(pd.DataFrame(Test['t'])))\n",
    "rmse_linear = np.sqrt(np.mean((np.array(Test['CO2'])-np.array(pred_linear))**2))\n",
    "rmse_linear"
   ]
  },
  {
   "cell_type": "markdown",
   "metadata": {},
   "source": [
    "### Exponential Smoothing : "
   ]
  },
  {
   "cell_type": "code",
   "execution_count": null,
   "metadata": {},
   "outputs": [],
   "source": [
    "Exp = smf.ols('log_CO2~t',data=Train).fit()\n",
    "pred_Exp = pd.Series(Exp.predict(pd.DataFrame(Test['t'])))\n",
    "rmse_Exp = np.sqrt(np.mean((np.array(Test['CO2'])-np.array(np.exp(pred_Exp)))**2))\n",
    "rmse_Exp"
   ]
  },
  {
   "cell_type": "markdown",
   "metadata": {},
   "source": [
    "### Quadratic Model : "
   ]
  },
  {
   "cell_type": "code",
   "execution_count": null,
   "metadata": {},
   "outputs": [],
   "source": [
    "Quad = smf.ols('CO2~t+t_sq',data=Train).fit()\n",
    "pred_Quad = pd.Series(Quad.predict(Test[[\"t\",\"t_sq\"]]))\n",
    "rmse_Quad = np.sqrt(np.mean((np.array(Test['CO2'])-np.array(pred_Quad))**2))\n",
    "rmse_Quad"
   ]
  },
  {
   "cell_type": "code",
   "execution_count": null,
   "metadata": {},
   "outputs": [],
   "source": [
    "#Compare the results \n",
    "\n",
    "data = {\"MODEL\":pd.Series([\"rmse_linear\",\"rmse_Exp\",\"rmse_Quad\"]),\"RMSE_Values\":pd.Series([rmse_linear,rmse_Exp,rmse_Quad])}\n",
    "table_rmse=pd.DataFrame(data)\n",
    "table_rmse.sort_values(['RMSE_Values'])"
   ]
  },
  {
   "cell_type": "code",
   "execution_count": null,
   "metadata": {},
   "outputs": [],
   "source": []
  },
  {
   "cell_type": "code",
   "execution_count": null,
   "metadata": {
    "scrolled": false
   },
   "outputs": [],
   "source": [
    "predictions.round(0)"
   ]
  },
  {
   "cell_type": "code",
   "execution_count": null,
   "metadata": {},
   "outputs": [],
   "source": [
    "forecasts"
   ]
  },
  {
   "cell_type": "code",
   "execution_count": null,
   "metadata": {},
   "outputs": [],
   "source": []
  },
  {
   "cell_type": "code",
   "execution_count": null,
   "metadata": {},
   "outputs": [],
   "source": []
  },
  {
   "cell_type": "code",
   "execution_count": null,
   "metadata": {},
   "outputs": [],
   "source": []
  }
 ],
 "metadata": {
  "colab": {
   "collapsed_sections": [
    "m3x__RH-k2kr",
    "kLbpNXX5k2ky",
    "QSXe-Pp7k2k5",
    "mxgQlmCzk2k_",
    "NpFHeHtok2lA",
    "vH3Ysk1Ok2lB",
    "NzBH7Tozk2lC",
    "vjJyvHURk2lC"
   ],
   "name": "CO2_Forecasting_P59.ipynb",
   "provenance": []
  },
  "kernelspec": {
   "display_name": "Python 3",
   "language": "python",
   "name": "python3"
  },
  "language_info": {
   "codemirror_mode": {
    "name": "ipython",
    "version": 3
   },
   "file_extension": ".py",
   "mimetype": "text/x-python",
   "name": "python",
   "nbconvert_exporter": "python",
   "pygments_lexer": "ipython3",
   "version": "3.8.5"
  }
 },
 "nbformat": 4,
 "nbformat_minor": 1
}
